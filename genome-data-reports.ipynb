{
 "cells": [
  {
   "cell_type": "code",
   "execution_count": 15,
   "metadata": {},
   "outputs": [],
   "source": [
    "import requests\n",
    "import json\n",
    "import os\n",
    "import pandas as pd"
   ]
  },
  {
   "cell_type": "code",
   "execution_count": 16,
   "metadata": {},
   "outputs": [],
   "source": [
    "RAW_DATA_PATH = os.path.join(\"data\", \"raw\")\n",
    "PROCESSED_DATA_PATH = os.path.join(\"data\", \"processed\")"
   ]
  },
  {
   "cell_type": "markdown",
   "metadata": {},
   "source": [
    "Getting Response list genome search"
   ]
  },
  {
   "cell_type": "code",
   "execution_count": 17,
   "metadata": {},
   "outputs": [],
   "source": [
    "urls_genome_reports = \"https://api.ncbi.nlm.nih.gov/datasets/v2alpha/genome/dataset_report\"\n",
    "payload = {\n",
    "    \"filters\": {\n",
    "        \"exclude_paired_reports\": True,\n",
    "        \"assembly_version\": \"current\"\n",
    "    },\n",
    "    \"page_size\": 10000,\n",
    "    \"page_token\": None,\n",
    "    \"returned_content\": \"COMPLETE\",\n",
    "    \"sort\": [],\n",
    "    \"taxons\": [\n",
    "        \"2759\",\n",
    "        \"2\",\n",
    "        \"2157\"\n",
    "    ]\n",
    "}"
   ]
  },
  {
   "cell_type": "code",
   "execution_count": 18,
   "metadata": {},
   "outputs": [],
   "source": [
    "res_genome_reports = requests.post(url=urls_genome_reports, json=payload)"
   ]
  },
  {
   "cell_type": "code",
   "execution_count": 19,
   "metadata": {},
   "outputs": [],
   "source": [
    "genome_reports_filename = os.path.join(RAW_DATA_PATH, \"genome_reports.json\")\n",
    "\n",
    "with open(genome_reports_filename, 'w', encoding ='utf8') as json_file: \n",
    "    json.dump(res_genome_reports.json(), json_file) "
   ]
  },
  {
   "cell_type": "markdown",
   "metadata": {},
   "source": [
    "Get List name taxonomy and ID Acession for download FASTA File"
   ]
  },
  {
   "cell_type": "code",
   "execution_count": 20,
   "metadata": {},
   "outputs": [],
   "source": [
    "genome_reports_filename = os.path.join(RAW_DATA_PATH, \"genome_reports.json\")"
   ]
  },
  {
   "cell_type": "code",
   "execution_count": 21,
   "metadata": {},
   "outputs": [],
   "source": [
    "genome_raw_json = None\n",
    "\n",
    "with open(genome_reports_filename, 'r', encoding ='utf8') as json_file: \n",
    "    genome_raw_json = json.load(json_file) "
   ]
  },
  {
   "cell_type": "code",
   "execution_count": 22,
   "metadata": {},
   "outputs": [],
   "source": [
    "genome_reports_json = genome_raw_json['reports']"
   ]
  },
  {
   "cell_type": "code",
   "execution_count": 23,
   "metadata": {},
   "outputs": [
    {
     "data": {
      "text/plain": [
       "1000"
      ]
     },
     "execution_count": 23,
     "metadata": {},
     "output_type": "execute_result"
    }
   ],
   "source": [
    "len(genome_reports_json)"
   ]
  },
  {
   "cell_type": "code",
   "execution_count": 24,
   "metadata": {},
   "outputs": [
    {
     "data": {
      "text/plain": [
       "{'accession': 'GCF_000195955.2',\n",
       " 'current_accession': 'GCF_000195955.2',\n",
       " 'paired_accession': 'GCA_000195955.2',\n",
       " 'source_database': 'SOURCE_DATABASE_REFSEQ',\n",
       " 'organism': {'tax_id': 83332,\n",
       "  'organism_name': 'Mycobacterium tuberculosis H37Rv',\n",
       "  'infraspecific_names': {'strain': 'H37Rv'}},\n",
       " 'assembly_info': {'assembly_level': 'Complete Genome',\n",
       "  'assembly_status': 'current',\n",
       "  'paired_assembly': {'accession': 'GCA_000195955.2',\n",
       "   'status': 'current',\n",
       "   'annotation_name': 'Annotation submitted by Sanger Institute'},\n",
       "  'assembly_name': 'ASM19595v2',\n",
       "  'assembly_type': 'haploid',\n",
       "  'bioproject_lineage': [{'bioprojects': [{'accession': 'PRJNA224',\n",
       "      'title': 'Causative agent of tuberculosis.'}]}],\n",
       "  'bioproject_accession': 'PRJNA224',\n",
       "  'release_date': '2013-02-01',\n",
       "  'submitter': 'Sanger Institute',\n",
       "  'refseq_category': 'reference genome',\n",
       "  'biosample': {'accession': 'SAMEA3138326',\n",
       "   'last_updated': '2019-04-18T11:07:32.727',\n",
       "   'publication_date': '2014-11-20T00:00:00.000',\n",
       "   'submission_date': '2014-11-21T08:58:35.217',\n",
       "   'sample_ids': [{'db': 'SRA', 'value': 'ERS610261'}],\n",
       "   'description': {'title': 'GCA_000195955',\n",
       "    'organism': {'tax_id': 83332,\n",
       "     'organism_name': 'Mycobacterium tuberculosis H37Rv'}},\n",
       "   'owner': {'name': 'EBI'},\n",
       "   'models': ['Generic'],\n",
       "   'package': 'Generic.1.0',\n",
       "   'attributes': [{'name': 'Alias', 'value': 'GCA_000195955'},\n",
       "    {'name': 'Broker name', 'value': 'European Nucleotide Archive'},\n",
       "    {'name': 'ENA checklist', 'value': 'ERC000011'},\n",
       "    {'name': 'INSDC center alias', 'value': 'EBI'},\n",
       "    {'name': 'INSDC center name',\n",
       "     'value': 'European Bioinformatics Institute'},\n",
       "    {'name': 'INSDC first public', 'value': '2014-11-20T12:20:15Z'},\n",
       "    {'name': 'INSDC last update', 'value': '2014-11-20T11:47:21Z'},\n",
       "    {'name': 'INSDC status', 'value': 'public'},\n",
       "    {'name': 'SRA accession', 'value': 'ERS610261'},\n",
       "    {'name': 'sample_name', 'value': 'ERS610261'},\n",
       "    {'name': 'Title',\n",
       "     'value': 'BioSample entry for genome collection GCA_000195955'},\n",
       "    {'name': 'strain', 'value': 'H37Rv'},\n",
       "    {'name': 'type-material',\n",
       "     'value': 'type strain of Mycobacterium tuberculosis'}],\n",
       "   'status': {'status': 'live', 'when': '2014-11-21T08:58:35.217'}},\n",
       "  'comments': 'Note:\\nThis annotation is from the TubercuList website, Release 26, Dec 2012 (URL: http://tuberculist.epfl.ch) (email: tuberculist@epfl.ch)'},\n",
       " 'assembly_stats': {'total_number_of_chromosomes': 1,\n",
       "  'total_sequence_length': '4411532',\n",
       "  'total_ungapped_length': '4411532',\n",
       "  'number_of_contigs': 1,\n",
       "  'contig_n50': 4411532,\n",
       "  'contig_l50': 1,\n",
       "  'number_of_scaffolds': 1,\n",
       "  'scaffold_n50': 4411532,\n",
       "  'scaffold_l50': 1,\n",
       "  'number_of_component_sequences': 1,\n",
       "  'gc_count': '2894612',\n",
       "  'gc_percent': 65.5},\n",
       " 'annotation_info': {'name': 'Annotation submitted by Sanger Institute',\n",
       "  'provider': 'Sanger Institute',\n",
       "  'release_date': '2017-12-14',\n",
       "  'stats': {'gene_counts': {'total': 4008,\n",
       "    'protein_coding': 3906,\n",
       "    'non_coding': 70,\n",
       "    'pseudogene': 30,\n",
       "    'other': 2}}},\n",
       " 'type_material': {'type_label': 'TYPE_MATERIAL',\n",
       "  'type_display_text': 'assembly from type material'},\n",
       " 'checkm_info': {'checkm_marker_set': 'Mycobacterium tuberculosis',\n",
       "  'checkm_species_tax_id': 1773,\n",
       "  'checkm_marker_set_rank': 'species',\n",
       "  'checkm_version': 'v1.2.2',\n",
       "  'completeness': 97.78,\n",
       "  'contamination': 0.37,\n",
       "  'completeness_percentile': 97.50143},\n",
       " 'average_nucleotide_identity': {'taxonomy_check_status': 'OK',\n",
       "  'match_status': 'species_match',\n",
       "  'submitted_organism': 'Mycobacterium tuberculosis H37Rv',\n",
       "  'submitted_species': 'Mycobacterium tuberculosis',\n",
       "  'category': 'type',\n",
       "  'submitted_ani_match': {'assembly': 'GCA_000277735.2',\n",
       "   'organism_name': 'Mycobacterium tuberculosis H37Rv',\n",
       "   'category': 'type',\n",
       "   'ani': 99.99,\n",
       "   'assembly_coverage': 100,\n",
       "   'type_assembly_coverage': 100},\n",
       "  'best_ani_match': {'assembly': 'GCA_000277735.2',\n",
       "   'organism_name': 'Mycobacterium tuberculosis',\n",
       "   'category': 'type',\n",
       "   'ani': 99.99,\n",
       "   'assembly_coverage': 100,\n",
       "   'type_assembly_coverage': 100},\n",
       "  'comment': 'na'}}"
      ]
     },
     "execution_count": 24,
     "metadata": {},
     "output_type": "execute_result"
    }
   ],
   "source": [
    "genome_reports_json[1]"
   ]
  },
  {
   "cell_type": "code",
   "execution_count": 25,
   "metadata": {},
   "outputs": [],
   "source": [
    "data_genomes = []\n",
    "\n",
    "for data_genome in genome_reports_json:\n",
    "\n",
    "    data_list = {\n",
    "        \"accession\" : data_genome.get('accession'),\n",
    "        \"tax_id\" : data_genome.get('organism').get('tax_id'),\n",
    "        \"organism_name\" : data_genome.get('organism').get('organism_name'),\n",
    "    }\n",
    "    data_genomes.append(data_list) \n",
    "\n",
    "    "
   ]
  },
  {
   "cell_type": "code",
   "execution_count": 26,
   "metadata": {},
   "outputs": [],
   "source": [
    "data_genomes_df = pd.DataFrame(data_genomes)"
   ]
  },
  {
   "cell_type": "code",
   "execution_count": 27,
   "metadata": {},
   "outputs": [
    {
     "data": {
      "text/html": [
       "<div>\n",
       "<style scoped>\n",
       "    .dataframe tbody tr th:only-of-type {\n",
       "        vertical-align: middle;\n",
       "    }\n",
       "\n",
       "    .dataframe tbody tr th {\n",
       "        vertical-align: top;\n",
       "    }\n",
       "\n",
       "    .dataframe thead th {\n",
       "        text-align: right;\n",
       "    }\n",
       "</style>\n",
       "<table border=\"1\" class=\"dataframe\">\n",
       "  <thead>\n",
       "    <tr style=\"text-align: right;\">\n",
       "      <th></th>\n",
       "      <th>accession</th>\n",
       "      <th>tax_id</th>\n",
       "      <th>organism_name</th>\n",
       "    </tr>\n",
       "  </thead>\n",
       "  <tbody>\n",
       "    <tr>\n",
       "      <th>0</th>\n",
       "      <td>GCF_000006945.2</td>\n",
       "      <td>99287</td>\n",
       "      <td>Salmonella enterica subsp. enterica serovar Ty...</td>\n",
       "    </tr>\n",
       "    <tr>\n",
       "      <th>1</th>\n",
       "      <td>GCF_000195955.2</td>\n",
       "      <td>83332</td>\n",
       "      <td>Mycobacterium tuberculosis H37Rv</td>\n",
       "    </tr>\n",
       "    <tr>\n",
       "      <th>2</th>\n",
       "      <td>GCF_000009045.1</td>\n",
       "      <td>224308</td>\n",
       "      <td>Bacillus subtilis subsp. subtilis str. 168</td>\n",
       "    </tr>\n",
       "    <tr>\n",
       "      <th>3</th>\n",
       "      <td>GCF_000005845.2</td>\n",
       "      <td>511145</td>\n",
       "      <td>Escherichia coli str. K-12 substr. MG1655</td>\n",
       "    </tr>\n",
       "    <tr>\n",
       "      <th>4</th>\n",
       "      <td>GCF_000008865.2</td>\n",
       "      <td>386585</td>\n",
       "      <td>Escherichia coli O157:H7 str. Sakai</td>\n",
       "    </tr>\n",
       "    <tr>\n",
       "      <th>...</th>\n",
       "      <td>...</td>\n",
       "      <td>...</td>\n",
       "      <td>...</td>\n",
       "    </tr>\n",
       "    <tr>\n",
       "      <th>995</th>\n",
       "      <td>GCF_001042695.1</td>\n",
       "      <td>1150468</td>\n",
       "      <td>Scardovia inopinata JCM 12537</td>\n",
       "    </tr>\n",
       "    <tr>\n",
       "      <th>996</th>\n",
       "      <td>GCF_003339775.1</td>\n",
       "      <td>1276259</td>\n",
       "      <td>Spiroplasma phoeniceum P40</td>\n",
       "    </tr>\n",
       "    <tr>\n",
       "      <th>997</th>\n",
       "      <td>GCF_000319575.2</td>\n",
       "      <td>1260251</td>\n",
       "      <td>Spiribacter salinus M19-40</td>\n",
       "    </tr>\n",
       "    <tr>\n",
       "      <th>998</th>\n",
       "      <td>GCF_000020145.1</td>\n",
       "      <td>445932</td>\n",
       "      <td>Elusimicrobium minutum Pei191</td>\n",
       "    </tr>\n",
       "    <tr>\n",
       "      <th>999</th>\n",
       "      <td>GCF_000024225.1</td>\n",
       "      <td>521095</td>\n",
       "      <td>Lancefieldella parvula DSM 20469</td>\n",
       "    </tr>\n",
       "  </tbody>\n",
       "</table>\n",
       "<p>1000 rows × 3 columns</p>\n",
       "</div>"
      ],
      "text/plain": [
       "           accession   tax_id  \\\n",
       "0    GCF_000006945.2    99287   \n",
       "1    GCF_000195955.2    83332   \n",
       "2    GCF_000009045.1   224308   \n",
       "3    GCF_000005845.2   511145   \n",
       "4    GCF_000008865.2   386585   \n",
       "..               ...      ...   \n",
       "995  GCF_001042695.1  1150468   \n",
       "996  GCF_003339775.1  1276259   \n",
       "997  GCF_000319575.2  1260251   \n",
       "998  GCF_000020145.1   445932   \n",
       "999  GCF_000024225.1   521095   \n",
       "\n",
       "                                         organism_name  \n",
       "0    Salmonella enterica subsp. enterica serovar Ty...  \n",
       "1                     Mycobacterium tuberculosis H37Rv  \n",
       "2           Bacillus subtilis subsp. subtilis str. 168  \n",
       "3            Escherichia coli str. K-12 substr. MG1655  \n",
       "4                  Escherichia coli O157:H7 str. Sakai  \n",
       "..                                                 ...  \n",
       "995                      Scardovia inopinata JCM 12537  \n",
       "996                         Spiroplasma phoeniceum P40  \n",
       "997                         Spiribacter salinus M19-40  \n",
       "998                      Elusimicrobium minutum Pei191  \n",
       "999                   Lancefieldella parvula DSM 20469  \n",
       "\n",
       "[1000 rows x 3 columns]"
      ]
     },
     "execution_count": 27,
     "metadata": {},
     "output_type": "execute_result"
    }
   ],
   "source": [
    "data_genomes_df"
   ]
  },
  {
   "cell_type": "code",
   "execution_count": 28,
   "metadata": {},
   "outputs": [],
   "source": [
    "data_genomes_df.to_csv(os.path.join(PROCESSED_DATA_PATH, \"data_genomes.csv\"), index=False)"
   ]
  }
 ],
 "metadata": {
  "kernelspec": {
   "display_name": "Python 3",
   "language": "python",
   "name": "python3"
  },
  "language_info": {
   "codemirror_mode": {
    "name": "ipython",
    "version": 3
   },
   "file_extension": ".py",
   "mimetype": "text/x-python",
   "name": "python",
   "nbconvert_exporter": "python",
   "pygments_lexer": "ipython3",
   "version": "3.8.10"
  },
  "orig_nbformat": 4
 },
 "nbformat": 4,
 "nbformat_minor": 2
}
