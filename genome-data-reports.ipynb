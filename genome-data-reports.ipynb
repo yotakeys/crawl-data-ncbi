{
 "cells": [
  {
   "cell_type": "code",
   "execution_count": 1,
   "metadata": {},
   "outputs": [],
   "source": [
    "import requests\n",
    "import json\n",
    "import os\n",
    "import pandas as pd"
   ]
  },
  {
   "cell_type": "code",
   "execution_count": 2,
   "metadata": {},
   "outputs": [],
   "source": [
    "RAW_DATA_PATH = os.path.join(\"data\", \"raw\")\n",
    "PROCESSED_DATA_PATH = os.path.join(\"data\", \"processed\")\n",
    "SOURCE_DATA_PATH = os.path.join(\"data\", \"source\")"
   ]
  },
  {
   "cell_type": "markdown",
   "metadata": {},
   "source": [
    "Getting Response list genome search"
   ]
  },
  {
   "cell_type": "code",
   "execution_count": 3,
   "metadata": {},
   "outputs": [],
   "source": [
    "index_file = 1\n",
    "response = {\"next_page_token\": None}\n",
    "\n",
    "while \"next_page_token\" in response.keys():\n",
    "    urls_genome_reports = \"https://api.ncbi.nlm.nih.gov/datasets/v2alpha/genome/dataset_report\"\n",
    "    payload = {\n",
    "        \"filters\": {\n",
    "            \"exclude_paired_reports\": True,\n",
    "            \"assembly_version\": \"current\"\n",
    "        },\n",
    "        \"page_size\": 1000,\n",
    "        \"page_token\": response[\"next_page_token\"],\n",
    "        \"returned_content\": \"COMPLETE\",\n",
    "        \"sort\": [],\n",
    "        \"taxons\": [\n",
    "            \"40674\"\n",
    "        ]\n",
    "    }\n",
    "\n",
    "    res_genome_reports = requests.post(url=urls_genome_reports, json=payload)\n",
    "    response = res_genome_reports.json()\n",
    "    \n",
    "    genome_reports_filename = os.path.join(RAW_DATA_PATH, \"genome_reports_{index_file}.json\".format(index_file=index_file))\n",
    "    index_file += 1\n",
    "    \n",
    "    with open(genome_reports_filename, 'w', encoding ='utf8') as json_file: \n",
    "        json.dump(res_genome_reports.json(), json_file) \n"
   ]
  },
  {
   "cell_type": "markdown",
   "metadata": {},
   "source": [
    "Get List name taxonomy and ID Acession for download FASTA File"
   ]
  },
  {
   "cell_type": "code",
   "execution_count": 4,
   "metadata": {},
   "outputs": [],
   "source": [
    "genome_raw_json = []\n",
    "\n",
    "genome_reports_filename = [\n",
    "    os.path.join(RAW_DATA_PATH, \"genome_reports_1.json\"),\n",
    "    os.path.join(RAW_DATA_PATH, \"genome_reports_2.json\"),\n",
    "    os.path.join(RAW_DATA_PATH, \"genome_reports_3.json\"),\n",
    "]\n",
    "\n",
    "for filename in genome_reports_filename:\n",
    "    with open(filename, 'r', encoding ='utf8') as json_file: \n",
    "        genome_raw_json.append(json.load(json_file) )"
   ]
  },
  {
   "cell_type": "code",
   "execution_count": 5,
   "metadata": {},
   "outputs": [
    {
     "data": {
      "text/plain": [
       "3"
      ]
     },
     "execution_count": 5,
     "metadata": {},
     "output_type": "execute_result"
    }
   ],
   "source": [
    "len(genome_raw_json)"
   ]
  },
  {
   "cell_type": "code",
   "execution_count": 6,
   "metadata": {},
   "outputs": [],
   "source": [
    "genome_reports_json = []\n",
    "\n",
    "for page in genome_raw_json:\n",
    "\n",
    "    genome_reports_json += page['reports']"
   ]
  },
  {
   "cell_type": "code",
   "execution_count": 7,
   "metadata": {},
   "outputs": [
    {
     "data": {
      "text/plain": [
       "2858"
      ]
     },
     "execution_count": 7,
     "metadata": {},
     "output_type": "execute_result"
    }
   ],
   "source": [
    "len(genome_reports_json)"
   ]
  },
  {
   "cell_type": "code",
   "execution_count": 8,
   "metadata": {},
   "outputs": [
    {
     "name": "stdout",
     "output_type": "stream",
     "text": [
      "{\n",
      "    \"accession\": \"GCF_000001635.27\",\n",
      "    \"current_accession\": \"GCF_000001635.27\",\n",
      "    \"paired_accession\": \"GCA_000001635.9\",\n",
      "    \"source_database\": \"SOURCE_DATABASE_REFSEQ\",\n",
      "    \"organism\": {\n",
      "        \"tax_id\": 10090,\n",
      "        \"organism_name\": \"Mus musculus\",\n",
      "        \"common_name\": \"house mouse\",\n",
      "        \"infraspecific_names\": {\n",
      "            \"strain\": \"C57BL/6J\"\n",
      "        }\n",
      "    },\n",
      "    \"assembly_info\": {\n",
      "        \"assembly_level\": \"Chromosome\",\n",
      "        \"assembly_status\": \"current\",\n",
      "        \"paired_assembly\": {\n",
      "            \"accession\": \"GCA_000001635.9\",\n",
      "            \"status\": \"current\"\n",
      "        },\n",
      "        \"assembly_name\": \"GRCm39\",\n",
      "        \"assembly_type\": \"haploid\",\n",
      "        \"bioproject_lineage\": [\n",
      "            {\n",
      "                \"bioprojects\": [\n",
      "                    {\n",
      "                        \"accession\": \"PRJNA20689\",\n",
      "                        \"title\": \"Genome sequence finishing for Mus musculus, currently maintained by the Genome Reference Consortium (GRC)\"\n",
      "                    }\n",
      "                ]\n",
      "            }\n",
      "        ],\n",
      "        \"bioproject_accession\": \"PRJNA20689\",\n",
      "        \"release_date\": \"2020-06-24\",\n",
      "        \"description\": \"Genome Reference Consortium Mouse Build 39\",\n",
      "        \"submitter\": \"Genome Reference Consortium\",\n",
      "        \"refseq_category\": \"reference genome\",\n",
      "        \"synonym\": \"mm39\",\n",
      "        \"blast_url\": \"https://blast.ncbi.nlm.nih.gov/Blast.cgi?PAGE_TYPE=BlastSearch&PROG_DEF=blastn&BLAST_SPEC=GDH_GCF_000001635.27\"\n",
      "    },\n",
      "    \"assembly_stats\": {\n",
      "        \"total_number_of_chromosomes\": 21,\n",
      "        \"total_sequence_length\": \"2728206152\",\n",
      "        \"total_ungapped_length\": \"2654605538\",\n",
      "        \"number_of_contigs\": 305,\n",
      "        \"contig_n50\": 59462871,\n",
      "        \"contig_l50\": 15,\n",
      "        \"number_of_scaffolds\": 101,\n",
      "        \"scaffold_n50\": 106145001,\n",
      "        \"scaffold_l50\": 11,\n",
      "        \"gaps_between_scaffolds_count\": 143,\n",
      "        \"number_of_component_sequences\": 21254,\n",
      "        \"gc_count\": \"1573609204\",\n",
      "        \"gc_percent\": 41.5,\n",
      "        \"number_of_organelles\": 1\n",
      "    },\n",
      "    \"organelle_info\": [\n",
      "        {\n",
      "            \"description\": \"Mitochondrion\",\n",
      "            \"total_seq_length\": \"16299\",\n",
      "            \"submitter\": \"Genome Reference Consortium\"\n",
      "        }\n",
      "    ],\n",
      "    \"annotation_info\": {\n",
      "        \"name\": \"GCF_000001635.27-RS_2023_04\",\n",
      "        \"provider\": \"NCBI RefSeq\",\n",
      "        \"release_date\": \"2023-04-05\",\n",
      "        \"report_url\": \"https://www.ncbi.nlm.nih.gov/genome/annotation_euk/Mus_musculus/GCF_000001635.27-RS_2023_04.html\",\n",
      "        \"stats\": {\n",
      "            \"gene_counts\": {\n",
      "                \"total\": 50562,\n",
      "                \"protein_coding\": 22192,\n",
      "                \"non_coding\": 17507,\n",
      "                \"pseudogene\": 10363,\n",
      "                \"other\": 500\n",
      "            }\n",
      "        },\n",
      "        \"busco\": {\n",
      "            \"busco_lineage\": \"glires_odb10\",\n",
      "            \"busco_ver\": \"4.1.4\",\n",
      "            \"complete\": 0.9946369,\n",
      "            \"single_copy\": 0.98594,\n",
      "            \"duplicated\": 0.008696913,\n",
      "            \"fragmented\": 0.001594434,\n",
      "            \"missing\": 0.0037686622,\n",
      "            \"total_count\": \"13798\"\n",
      "        },\n",
      "        \"method\": \"Best-placed RefSeq; Gnomon; RefSeqFE; cmsearch; tRNAscan-SE\",\n",
      "        \"pipeline\": \"NCBI eukaryotic genome annotation pipeline\",\n",
      "        \"software_version\": \"10.1\",\n",
      "        \"status\": \"Updated annotation\"\n",
      "    }\n",
      "}\n"
     ]
    }
   ],
   "source": [
    "print(json.dumps(genome_reports_json[1], indent=4))"
   ]
  },
  {
   "cell_type": "code",
   "execution_count": 9,
   "metadata": {},
   "outputs": [],
   "source": [
    "data_genomes = []\n",
    "\n",
    "for data_genome in genome_reports_json:\n",
    "\n",
    "    data_list = {\n",
    "        \"accession\" : data_genome.get('accession'),\n",
    "        \"tax_id\" : data_genome.get('organism').get('tax_id'),\n",
    "        \"organism_name\" : data_genome.get('organism').get('organism_name'),\n",
    "        \"common_name\" : data_genome.get('organism').get('common_name'),\n",
    "    }\n",
    "    data_genomes.append(data_list) \n",
    "\n",
    "data_genomes_df = pd.DataFrame(data_genomes)"
   ]
  },
  {
   "cell_type": "code",
   "execution_count": 10,
   "metadata": {},
   "outputs": [],
   "source": [
    "data_genomes_df = pd.DataFrame(data_genomes)"
   ]
  },
  {
   "cell_type": "code",
   "execution_count": 11,
   "metadata": {},
   "outputs": [
    {
     "data": {
      "text/html": [
       "<div>\n",
       "<style scoped>\n",
       "    .dataframe tbody tr th:only-of-type {\n",
       "        vertical-align: middle;\n",
       "    }\n",
       "\n",
       "    .dataframe tbody tr th {\n",
       "        vertical-align: top;\n",
       "    }\n",
       "\n",
       "    .dataframe thead th {\n",
       "        text-align: right;\n",
       "    }\n",
       "</style>\n",
       "<table border=\"1\" class=\"dataframe\">\n",
       "  <thead>\n",
       "    <tr style=\"text-align: right;\">\n",
       "      <th></th>\n",
       "      <th>accession</th>\n",
       "      <th>tax_id</th>\n",
       "      <th>organism_name</th>\n",
       "      <th>common_name</th>\n",
       "    </tr>\n",
       "  </thead>\n",
       "  <tbody>\n",
       "    <tr>\n",
       "      <th>0</th>\n",
       "      <td>GCF_000001405.40</td>\n",
       "      <td>9606</td>\n",
       "      <td>Homo sapiens</td>\n",
       "      <td>human</td>\n",
       "    </tr>\n",
       "    <tr>\n",
       "      <th>1</th>\n",
       "      <td>GCF_000001635.27</td>\n",
       "      <td>10090</td>\n",
       "      <td>Mus musculus</td>\n",
       "      <td>house mouse</td>\n",
       "    </tr>\n",
       "    <tr>\n",
       "      <th>2</th>\n",
       "      <td>GCF_019923935.1</td>\n",
       "      <td>89462</td>\n",
       "      <td>Bubalus bubalis</td>\n",
       "      <td>water buffalo</td>\n",
       "    </tr>\n",
       "    <tr>\n",
       "      <th>3</th>\n",
       "      <td>GCA_023701655.1</td>\n",
       "      <td>2918886</td>\n",
       "      <td>Ovis ammon polii x Ovis aries</td>\n",
       "      <td>None</td>\n",
       "    </tr>\n",
       "    <tr>\n",
       "      <th>4</th>\n",
       "      <td>GCA_032405125.1</td>\n",
       "      <td>34865</td>\n",
       "      <td>Capricornis sumatraensis</td>\n",
       "      <td>Sumatran serow</td>\n",
       "    </tr>\n",
       "    <tr>\n",
       "      <th>...</th>\n",
       "      <td>...</td>\n",
       "      <td>...</td>\n",
       "      <td>...</td>\n",
       "      <td>...</td>\n",
       "    </tr>\n",
       "    <tr>\n",
       "      <th>2853</th>\n",
       "      <td>GCA_016894425.1</td>\n",
       "      <td>9606</td>\n",
       "      <td>Homo sapiens</td>\n",
       "      <td>human</td>\n",
       "    </tr>\n",
       "    <tr>\n",
       "      <th>2854</th>\n",
       "      <td>GCA_023065335.1</td>\n",
       "      <td>9823</td>\n",
       "      <td>Sus scrofa</td>\n",
       "      <td>pig</td>\n",
       "    </tr>\n",
       "    <tr>\n",
       "      <th>2855</th>\n",
       "      <td>GCA_023065355.1</td>\n",
       "      <td>9823</td>\n",
       "      <td>Sus scrofa</td>\n",
       "      <td>pig</td>\n",
       "    </tr>\n",
       "    <tr>\n",
       "      <th>2856</th>\n",
       "      <td>GCA_030378505.1</td>\n",
       "      <td>9913</td>\n",
       "      <td>Bos taurus</td>\n",
       "      <td>cattle</td>\n",
       "    </tr>\n",
       "    <tr>\n",
       "      <th>2857</th>\n",
       "      <td>GCA_030512445.1</td>\n",
       "      <td>9940</td>\n",
       "      <td>Ovis aries</td>\n",
       "      <td>sheep</td>\n",
       "    </tr>\n",
       "  </tbody>\n",
       "</table>\n",
       "<p>2858 rows × 4 columns</p>\n",
       "</div>"
      ],
      "text/plain": [
       "             accession   tax_id                  organism_name     common_name\n",
       "0     GCF_000001405.40     9606                   Homo sapiens           human\n",
       "1     GCF_000001635.27    10090                   Mus musculus     house mouse\n",
       "2      GCF_019923935.1    89462                Bubalus bubalis   water buffalo\n",
       "3      GCA_023701655.1  2918886  Ovis ammon polii x Ovis aries            None\n",
       "4      GCA_032405125.1    34865       Capricornis sumatraensis  Sumatran serow\n",
       "...                ...      ...                            ...             ...\n",
       "2853   GCA_016894425.1     9606                   Homo sapiens           human\n",
       "2854   GCA_023065335.1     9823                     Sus scrofa             pig\n",
       "2855   GCA_023065355.1     9823                     Sus scrofa             pig\n",
       "2856   GCA_030378505.1     9913                     Bos taurus          cattle\n",
       "2857   GCA_030512445.1     9940                     Ovis aries           sheep\n",
       "\n",
       "[2858 rows x 4 columns]"
      ]
     },
     "execution_count": 11,
     "metadata": {},
     "output_type": "execute_result"
    }
   ],
   "source": [
    "data_genomes_df"
   ]
  },
  {
   "cell_type": "code",
   "execution_count": 12,
   "metadata": {},
   "outputs": [],
   "source": [
    "data_genomes_df.to_csv(os.path.join(PROCESSED_DATA_PATH, \"data_accession_taxon.csv\"), index=False)"
   ]
  }
 ],
 "metadata": {
  "kernelspec": {
   "display_name": "Python 3",
   "language": "python",
   "name": "python3"
  },
  "language_info": {
   "codemirror_mode": {
    "name": "ipython",
    "version": 3
   },
   "file_extension": ".py",
   "mimetype": "text/x-python",
   "name": "python",
   "nbconvert_exporter": "python",
   "pygments_lexer": "ipython3",
   "version": "3.8.10"
  },
  "orig_nbformat": 4
 },
 "nbformat": 4,
 "nbformat_minor": 2
}
