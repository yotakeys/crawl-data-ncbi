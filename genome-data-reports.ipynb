{
 "cells": [
  {
   "cell_type": "code",
   "execution_count": 5,
   "metadata": {},
   "outputs": [],
   "source": [
    "import requests\n",
    "import json\n",
    "import os\n",
    "import pandas as pd"
   ]
  },
  {
   "cell_type": "code",
   "execution_count": 6,
   "metadata": {},
   "outputs": [],
   "source": [
    "RAW_DATA_PATH = os.path.join(\"data\", \"raw\")\n",
    "PROCESSED_DATA_PATH = os.path.join(\"data\", \"processed\")\n",
    "SOURCE_DATA_PATH = os.path.join(\"data\", \"source\")"
   ]
  },
  {
   "cell_type": "markdown",
   "metadata": {},
   "source": [
    "Getting Response list genome search"
   ]
  },
  {
   "cell_type": "code",
   "execution_count": 7,
   "metadata": {},
   "outputs": [],
   "source": [
    "urls_genome_reports = \"https://api.ncbi.nlm.nih.gov/datasets/v2alpha/genome/dataset_report\"\n",
    "payload = {\n",
    "    \"filters\": {\n",
    "        \"exclude_paired_reports\": True,\n",
    "        \"assembly_version\": \"current\"\n",
    "    },\n",
    "    \"page_size\": 1000,\n",
    "    \"page_token\": None,\n",
    "    \"returned_content\": \"COMPLETE\",\n",
    "    \"sort\": [],\n",
    "    \"taxons\": [\n",
    "        \"33208\"\n",
    "    ]\n",
    "}"
   ]
  },
  {
   "cell_type": "code",
   "execution_count": 8,
   "metadata": {},
   "outputs": [],
   "source": [
    "res_genome_reports = requests.post(url=urls_genome_reports, json=payload)"
   ]
  },
  {
   "cell_type": "code",
   "execution_count": 9,
   "metadata": {},
   "outputs": [],
   "source": [
    "genome_reports_filename = os.path.join(RAW_DATA_PATH, \"genome_reports.json\")\n",
    "\n",
    "with open(genome_reports_filename, 'w', encoding ='utf8') as json_file: \n",
    "    json.dump(res_genome_reports.json(), json_file) "
   ]
  },
  {
   "cell_type": "markdown",
   "metadata": {},
   "source": [
    "Get List name taxonomy and ID Acession for download FASTA File"
   ]
  },
  {
   "cell_type": "code",
   "execution_count": 10,
   "metadata": {},
   "outputs": [],
   "source": [
    "genome_reports_filename = os.path.join(RAW_DATA_PATH, \"genome_reports.json\")"
   ]
  },
  {
   "cell_type": "code",
   "execution_count": 11,
   "metadata": {},
   "outputs": [],
   "source": [
    "genome_raw_json = None\n",
    "\n",
    "with open(genome_reports_filename, 'r', encoding ='utf8') as json_file: \n",
    "    genome_raw_json = json.load(json_file) "
   ]
  },
  {
   "cell_type": "code",
   "execution_count": 12,
   "metadata": {},
   "outputs": [],
   "source": [
    "genome_reports_json = genome_raw_json['reports']"
   ]
  },
  {
   "cell_type": "code",
   "execution_count": 13,
   "metadata": {},
   "outputs": [
    {
     "data": {
      "text/plain": [
       "1000"
      ]
     },
     "execution_count": 13,
     "metadata": {},
     "output_type": "execute_result"
    }
   ],
   "source": [
    "len(genome_reports_json)"
   ]
  },
  {
   "cell_type": "code",
   "execution_count": 14,
   "metadata": {},
   "outputs": [
    {
     "name": "stdout",
     "output_type": "stream",
     "text": [
      "{\n",
      "    \"accession\": \"GCF_000001405.40\",\n",
      "    \"current_accession\": \"GCF_000001405.40\",\n",
      "    \"paired_accession\": \"GCA_000001405.29\",\n",
      "    \"source_database\": \"SOURCE_DATABASE_REFSEQ\",\n",
      "    \"organism\": {\n",
      "        \"tax_id\": 9606,\n",
      "        \"organism_name\": \"Homo sapiens\",\n",
      "        \"common_name\": \"human\"\n",
      "    },\n",
      "    \"assembly_info\": {\n",
      "        \"assembly_level\": \"Chromosome\",\n",
      "        \"assembly_status\": \"current\",\n",
      "        \"paired_assembly\": {\n",
      "            \"accession\": \"GCA_000001405.29\",\n",
      "            \"status\": \"current\",\n",
      "            \"only_genbank\": \"4 unlocalized and unplaced scaffolds.\"\n",
      "        },\n",
      "        \"assembly_name\": \"GRCh38.p14\",\n",
      "        \"assembly_type\": \"haploid-with-alt-loci\",\n",
      "        \"bioproject_lineage\": [\n",
      "            {\n",
      "                \"bioprojects\": [\n",
      "                    {\n",
      "                        \"accession\": \"PRJNA31257\",\n",
      "                        \"title\": \"The Human Genome Project, currently maintained by the Genome Reference Consortium (GRC)\"\n",
      "                    }\n",
      "                ]\n",
      "            }\n",
      "        ],\n",
      "        \"bioproject_accession\": \"PRJNA31257\",\n",
      "        \"release_date\": \"2022-02-03\",\n",
      "        \"description\": \"Genome Reference Consortium Human Build 38 patch release 14 (GRCh38.p14)\",\n",
      "        \"submitter\": \"Genome Reference Consortium\",\n",
      "        \"refseq_category\": \"reference genome\",\n",
      "        \"synonym\": \"hg38\",\n",
      "        \"blast_url\": \"https://blast.ncbi.nlm.nih.gov/Blast.cgi?PAGE_TYPE=BlastSearch&PROG_DEF=blastn&BLAST_SPEC=GDH_GCF_000001405.40\"\n",
      "    },\n",
      "    \"assembly_stats\": {\n",
      "        \"total_number_of_chromosomes\": 24,\n",
      "        \"total_sequence_length\": \"3099441038\",\n",
      "        \"total_ungapped_length\": \"2948318359\",\n",
      "        \"number_of_contigs\": 996,\n",
      "        \"contig_n50\": 57879411,\n",
      "        \"contig_l50\": 18,\n",
      "        \"number_of_scaffolds\": 470,\n",
      "        \"scaffold_n50\": 67794873,\n",
      "        \"scaffold_l50\": 16,\n",
      "        \"gaps_between_scaffolds_count\": 349,\n",
      "        \"number_of_component_sequences\": 35611,\n",
      "        \"gc_count\": \"1374283647\",\n",
      "        \"gc_percent\": 40.5,\n",
      "        \"number_of_organelles\": 1\n",
      "    },\n",
      "    \"organelle_info\": [\n",
      "        {\n",
      "            \"description\": \"Mitochondrion\",\n",
      "            \"total_seq_length\": \"16569\",\n",
      "            \"submitter\": \"Genome Reference Consortium\"\n",
      "        }\n",
      "    ],\n",
      "    \"annotation_info\": {\n",
      "        \"name\": \"GCF_000001405.40-RS_2023_10\",\n",
      "        \"provider\": \"NCBI RefSeq\",\n",
      "        \"release_date\": \"2023-10-02\",\n",
      "        \"report_url\": \"https://www.ncbi.nlm.nih.gov/genome/annotation_euk/Homo_sapiens/GCF_000001405.40-RS_2023_10.html\",\n",
      "        \"stats\": {\n",
      "            \"gene_counts\": {\n",
      "                \"total\": 59652,\n",
      "                \"protein_coding\": 20080,\n",
      "                \"non_coding\": 22158,\n",
      "                \"pseudogene\": 17001,\n",
      "                \"other\": 413\n",
      "            }\n",
      "        },\n",
      "        \"busco\": {\n",
      "            \"busco_lineage\": \"primates_odb10\",\n",
      "            \"busco_ver\": \"4.1.4\",\n",
      "            \"complete\": 0.99187225,\n",
      "            \"single_copy\": 0.9846154,\n",
      "            \"duplicated\": 0.007256894,\n",
      "            \"fragmented\": 0.0015239477,\n",
      "            \"missing\": 0.0066037737,\n",
      "            \"total_count\": \"13780\"\n",
      "        },\n",
      "        \"method\": \"Best-placed RefSeq; Gnomon; RefSeqFE; cmsearch; tRNAscan-SE\",\n",
      "        \"pipeline\": \"NCBI eukaryotic genome annotation pipeline\",\n",
      "        \"software_version\": \"10.2\",\n",
      "        \"status\": \"Updated annotation\"\n",
      "    }\n",
      "}\n"
     ]
    }
   ],
   "source": [
    "print(json.dumps(genome_reports_json[1], indent=4))"
   ]
  },
  {
   "cell_type": "code",
   "execution_count": 15,
   "metadata": {},
   "outputs": [],
   "source": [
    "data_genomes = []\n",
    "\n",
    "for data_genome in genome_reports_json:\n",
    "\n",
    "    data_list = {\n",
    "        \"accession\" : data_genome.get('accession'),\n",
    "        \"tax_id\" : data_genome.get('organism').get('tax_id'),\n",
    "        \"organism_name\" : data_genome.get('organism').get('organism_name'),\n",
    "    }\n",
    "    data_genomes.append(data_list) \n",
    "\n",
    "    "
   ]
  },
  {
   "cell_type": "code",
   "execution_count": 16,
   "metadata": {},
   "outputs": [],
   "source": [
    "data_genomes_df = pd.DataFrame(data_genomes)"
   ]
  },
  {
   "cell_type": "code",
   "execution_count": 17,
   "metadata": {},
   "outputs": [
    {
     "data": {
      "text/html": [
       "<div>\n",
       "<style scoped>\n",
       "    .dataframe tbody tr th:only-of-type {\n",
       "        vertical-align: middle;\n",
       "    }\n",
       "\n",
       "    .dataframe tbody tr th {\n",
       "        vertical-align: top;\n",
       "    }\n",
       "\n",
       "    .dataframe thead th {\n",
       "        text-align: right;\n",
       "    }\n",
       "</style>\n",
       "<table border=\"1\" class=\"dataframe\">\n",
       "  <thead>\n",
       "    <tr style=\"text-align: right;\">\n",
       "      <th></th>\n",
       "      <th>accession</th>\n",
       "      <th>tax_id</th>\n",
       "      <th>organism_name</th>\n",
       "    </tr>\n",
       "  </thead>\n",
       "  <tbody>\n",
       "    <tr>\n",
       "      <th>0</th>\n",
       "      <td>GCF_000002985.6</td>\n",
       "      <td>6239</td>\n",
       "      <td>Caenorhabditis elegans</td>\n",
       "    </tr>\n",
       "    <tr>\n",
       "      <th>1</th>\n",
       "      <td>GCF_000001405.40</td>\n",
       "      <td>9606</td>\n",
       "      <td>Homo sapiens</td>\n",
       "    </tr>\n",
       "    <tr>\n",
       "      <th>2</th>\n",
       "      <td>GCF_000001635.27</td>\n",
       "      <td>10090</td>\n",
       "      <td>Mus musculus</td>\n",
       "    </tr>\n",
       "    <tr>\n",
       "      <th>3</th>\n",
       "      <td>GCF_000001215.4</td>\n",
       "      <td>7227</td>\n",
       "      <td>Drosophila melanogaster</td>\n",
       "    </tr>\n",
       "    <tr>\n",
       "      <th>4</th>\n",
       "      <td>GCF_000002035.6</td>\n",
       "      <td>7955</td>\n",
       "      <td>Danio rerio</td>\n",
       "    </tr>\n",
       "    <tr>\n",
       "      <th>...</th>\n",
       "      <td>...</td>\n",
       "      <td>...</td>\n",
       "      <td>...</td>\n",
       "    </tr>\n",
       "    <tr>\n",
       "      <th>995</th>\n",
       "      <td>GCA_927399485.1</td>\n",
       "      <td>1371681</td>\n",
       "      <td>Calamotropha paludella</td>\n",
       "    </tr>\n",
       "    <tr>\n",
       "      <th>996</th>\n",
       "      <td>GCA_929112965.1</td>\n",
       "      <td>987983</td>\n",
       "      <td>Mythimna albipuncta</td>\n",
       "    </tr>\n",
       "    <tr>\n",
       "      <th>997</th>\n",
       "      <td>GCA_905220435.1</td>\n",
       "      <td>689058</td>\n",
       "      <td>Amphipyra tragopoginis</td>\n",
       "    </tr>\n",
       "    <tr>\n",
       "      <th>998</th>\n",
       "      <td>GCA_907165235.1</td>\n",
       "      <td>1101072</td>\n",
       "      <td>Zeuzera pyrina</td>\n",
       "    </tr>\n",
       "    <tr>\n",
       "      <th>999</th>\n",
       "      <td>GCA_024489055.1</td>\n",
       "      <td>933992</td>\n",
       "      <td>Chanodichthys erythropterus</td>\n",
       "    </tr>\n",
       "  </tbody>\n",
       "</table>\n",
       "<p>1000 rows × 3 columns</p>\n",
       "</div>"
      ],
      "text/plain": [
       "            accession   tax_id                organism_name\n",
       "0     GCF_000002985.6     6239       Caenorhabditis elegans\n",
       "1    GCF_000001405.40     9606                 Homo sapiens\n",
       "2    GCF_000001635.27    10090                 Mus musculus\n",
       "3     GCF_000001215.4     7227      Drosophila melanogaster\n",
       "4     GCF_000002035.6     7955                  Danio rerio\n",
       "..                ...      ...                          ...\n",
       "995   GCA_927399485.1  1371681       Calamotropha paludella\n",
       "996   GCA_929112965.1   987983          Mythimna albipuncta\n",
       "997   GCA_905220435.1   689058       Amphipyra tragopoginis\n",
       "998   GCA_907165235.1  1101072               Zeuzera pyrina\n",
       "999   GCA_024489055.1   933992  Chanodichthys erythropterus\n",
       "\n",
       "[1000 rows x 3 columns]"
      ]
     },
     "execution_count": 17,
     "metadata": {},
     "output_type": "execute_result"
    }
   ],
   "source": [
    "data_genomes_df"
   ]
  },
  {
   "cell_type": "code",
   "execution_count": 18,
   "metadata": {},
   "outputs": [],
   "source": [
    "data_genomes_df.to_csv(os.path.join(PROCESSED_DATA_PATH, \"data_accession_taxon.csv\"), index=False)"
   ]
  }
 ],
 "metadata": {
  "kernelspec": {
   "display_name": "Python 3",
   "language": "python",
   "name": "python3"
  },
  "language_info": {
   "codemirror_mode": {
    "name": "ipython",
    "version": 3
   },
   "file_extension": ".py",
   "mimetype": "text/x-python",
   "name": "python",
   "nbconvert_exporter": "python",
   "pygments_lexer": "ipython3",
   "version": "3.8.10"
  },
  "orig_nbformat": 4
 },
 "nbformat": 4,
 "nbformat_minor": 2
}
