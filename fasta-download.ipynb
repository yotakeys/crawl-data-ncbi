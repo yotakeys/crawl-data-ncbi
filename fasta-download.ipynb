{
 "cells": [
  {
   "cell_type": "code",
   "execution_count": 1,
   "metadata": {},
   "outputs": [],
   "source": [
    "import requests\n",
    "import json\n",
    "import os\n",
    "import pandas as pd\n",
    "import re\n",
    "from tqdm import tqdm\n",
    "\n",
    "tqdm.pandas()"
   ]
  },
  {
   "cell_type": "code",
   "execution_count": 2,
   "metadata": {},
   "outputs": [],
   "source": [
    "RAW_DATA_PATH = os.path.join(\"data\", \"raw\")\n",
    "PROCESSED_DATA_PATH = os.path.join(\"data\", \"processed\")"
   ]
  },
  {
   "cell_type": "markdown",
   "metadata": {},
   "source": [
    "Load Data CSV Taxon and Acession"
   ]
  },
  {
   "cell_type": "code",
   "execution_count": 3,
   "metadata": {},
   "outputs": [],
   "source": [
    "data_accession_taxon = pd.read_csv(os.path.join(PROCESSED_DATA_PATH, \"data_accession_taxon.csv\"))"
   ]
  },
  {
   "cell_type": "code",
   "execution_count": 4,
   "metadata": {},
   "outputs": [
    {
     "data": {
      "text/html": [
       "<div>\n",
       "<style scoped>\n",
       "    .dataframe tbody tr th:only-of-type {\n",
       "        vertical-align: middle;\n",
       "    }\n",
       "\n",
       "    .dataframe tbody tr th {\n",
       "        vertical-align: top;\n",
       "    }\n",
       "\n",
       "    .dataframe thead th {\n",
       "        text-align: right;\n",
       "    }\n",
       "</style>\n",
       "<table border=\"1\" class=\"dataframe\">\n",
       "  <thead>\n",
       "    <tr style=\"text-align: right;\">\n",
       "      <th></th>\n",
       "      <th>accession</th>\n",
       "      <th>tax_id</th>\n",
       "      <th>organism_name</th>\n",
       "    </tr>\n",
       "  </thead>\n",
       "  <tbody>\n",
       "    <tr>\n",
       "      <th>480</th>\n",
       "      <td>GCF_000757795.1</td>\n",
       "      <td>693986</td>\n",
       "      <td>Methylobacterium oryzae CBMB20</td>\n",
       "    </tr>\n",
       "    <tr>\n",
       "      <th>613</th>\n",
       "      <td>GCF_013466785.1</td>\n",
       "      <td>419476</td>\n",
       "      <td>Nocardioides marinisabuli</td>\n",
       "    </tr>\n",
       "    <tr>\n",
       "      <th>430</th>\n",
       "      <td>GCF_900475915.1</td>\n",
       "      <td>28264</td>\n",
       "      <td>Arcanobacterium haemolyticum</td>\n",
       "    </tr>\n",
       "    <tr>\n",
       "      <th>49</th>\n",
       "      <td>GCF_004799605.1</td>\n",
       "      <td>2242</td>\n",
       "      <td>Halobacterium salinarum</td>\n",
       "    </tr>\n",
       "    <tr>\n",
       "      <th>752</th>\n",
       "      <td>GCF_008245045.1</td>\n",
       "      <td>1031542</td>\n",
       "      <td>Campylobacter volucris</td>\n",
       "    </tr>\n",
       "  </tbody>\n",
       "</table>\n",
       "</div>"
      ],
      "text/plain": [
       "           accession   tax_id                   organism_name\n",
       "480  GCF_000757795.1   693986  Methylobacterium oryzae CBMB20\n",
       "613  GCF_013466785.1   419476       Nocardioides marinisabuli\n",
       "430  GCF_900475915.1    28264    Arcanobacterium haemolyticum\n",
       "49   GCF_004799605.1     2242         Halobacterium salinarum\n",
       "752  GCF_008245045.1  1031542          Campylobacter volucris"
      ]
     },
     "execution_count": 4,
     "metadata": {},
     "output_type": "execute_result"
    }
   ],
   "source": [
    "data_accession_taxon.sample(5)"
   ]
  },
  {
   "cell_type": "code",
   "execution_count": 5,
   "metadata": {},
   "outputs": [
    {
     "data": {
      "text/html": [
       "<div>\n",
       "<style scoped>\n",
       "    .dataframe tbody tr th:only-of-type {\n",
       "        vertical-align: middle;\n",
       "    }\n",
       "\n",
       "    .dataframe tbody tr th {\n",
       "        vertical-align: top;\n",
       "    }\n",
       "\n",
       "    .dataframe thead th {\n",
       "        text-align: right;\n",
       "    }\n",
       "</style>\n",
       "<table border=\"1\" class=\"dataframe\">\n",
       "  <thead>\n",
       "    <tr style=\"text-align: right;\">\n",
       "      <th></th>\n",
       "      <th>accession</th>\n",
       "      <th>tax_id</th>\n",
       "      <th>organism_name</th>\n",
       "    </tr>\n",
       "  </thead>\n",
       "  <tbody>\n",
       "    <tr>\n",
       "      <th>987</th>\n",
       "      <td>GCF_030316605.1</td>\n",
       "      <td>1276219</td>\n",
       "      <td>Spiroplasma ixodetis Y32</td>\n",
       "    </tr>\n",
       "  </tbody>\n",
       "</table>\n",
       "</div>"
      ],
      "text/plain": [
       "           accession   tax_id             organism_name\n",
       "987  GCF_030316605.1  1276219  Spiroplasma ixodetis Y32"
      ]
     },
     "execution_count": 5,
     "metadata": {},
     "output_type": "execute_result"
    }
   ],
   "source": [
    "data_accession_taxon[data_accession_taxon.organism_name.str.contains(\"ixo\")]"
   ]
  },
  {
   "cell_type": "markdown",
   "metadata": {},
   "source": [
    "URL Download FASTA"
   ]
  },
  {
   "cell_type": "code",
   "execution_count": 6,
   "metadata": {},
   "outputs": [],
   "source": [
    "urls_summary = \"https://api.ncbi.nlm.nih.gov/datasets/v2alpha/genome/accession/{accession}/download_summary?include_annotation_type[0]=GENOME_FASTA\""
   ]
  },
  {
   "cell_type": "code",
   "execution_count": 7,
   "metadata": {},
   "outputs": [
    {
     "data": {
      "text/plain": [
       "'https://api.ncbi.nlm.nih.gov/datasets/v2alpha/genome/accession/GCF_030316605.1/download_summary?include_annotation_type[0]=GENOME_FASTA'"
      ]
     },
     "execution_count": 7,
     "metadata": {},
     "output_type": "execute_result"
    }
   ],
   "source": [
    "urls_summary.format(accession=\"GCF_030316605.1\")"
   ]
  },
  {
   "cell_type": "code",
   "execution_count": 8,
   "metadata": {},
   "outputs": [],
   "source": [
    "summary_response = requests.get(urls_summary.format(accession=\"GCF_030316605.1\"))"
   ]
  },
  {
   "cell_type": "code",
   "execution_count": 9,
   "metadata": {},
   "outputs": [
    {
     "name": "stdout",
     "output_type": "stream",
     "text": [
      "{\n",
      "    \"record_count\": 1,\n",
      "    \"resource_updated_on\": \"2023-10-14T03:40:16Z\",\n",
      "    \"hydrated\": {\n",
      "        \"estimated_file_size_mb\": 1,\n",
      "        \"url\": \"https://api.ncbi.nlm.nih.gov/datasets/v2alpha/genome/accession/GCF_030316605.1/download?include_annotation_type=DEFAULT,GENOME_FASTA\",\n",
      "        \"cli_download_command_line\": \"datasets download genome accession GCF_030316605.1 --include genome\"\n",
      "    },\n",
      "    \"dehydrated\": {\n",
      "        \"estimated_file_size_mb\": 1,\n",
      "        \"url\": \"https://api.ncbi.nlm.nih.gov/datasets/v2alpha/genome/accession/GCF_030316605.1/download?hydrated=DATA_REPORT_ONLY&include_annotation_type=DEFAULT,GENOME_FASTA\",\n",
      "        \"cli_download_command_line\": \"datasets download genome accession GCF_030316605.1 --include genome --dehydrated\",\n",
      "        \"cli_rehydrate_command_line\": \"datasets rehydrate --help\"\n",
      "    },\n",
      "    \"available_files\": {\n",
      "        \"all_genomic_fasta\": {\n",
      "            \"file_count\": 1,\n",
      "            \"size_mb\": 0.5104723\n",
      "        },\n",
      "        \"genome_gff\": {\n",
      "            \"file_count\": 1,\n",
      "            \"size_mb\": 0.16258144\n",
      "        },\n",
      "        \"genome_gbff\": {\n",
      "            \"file_count\": 1,\n",
      "            \"size_mb\": 1.3697662\n",
      "        },\n",
      "        \"rna_fasta\": {},\n",
      "        \"prot_fasta\": {\n",
      "            \"file_count\": 1,\n",
      "            \"size_mb\": 0.26344204\n",
      "        },\n",
      "        \"genome_gtf\": {\n",
      "            \"file_count\": 1,\n",
      "            \"size_mb\": 0.20510769\n",
      "        },\n",
      "        \"cds_fasta\": {\n",
      "            \"file_count\": 1,\n",
      "            \"size_mb\": 0.48178196\n",
      "        },\n",
      "        \"sequence_report\": {\n",
      "            \"file_count\": 1,\n",
      "            \"size_mb\": 0.0017442703\n",
      "        }\n",
      "    }\n",
      "}\n"
     ]
    }
   ],
   "source": [
    "print(json.dumps(summary_response.json(), indent = 4))"
   ]
  },
  {
   "cell_type": "code",
   "execution_count": 10,
   "metadata": {},
   "outputs": [],
   "source": [
    "urls_download = summary_response.json()[\"hydrated\"][\"url\"]"
   ]
  },
  {
   "cell_type": "code",
   "execution_count": 11,
   "metadata": {},
   "outputs": [
    {
     "data": {
      "text/plain": [
       "'https://api.ncbi.nlm.nih.gov/datasets/v2alpha/genome/accession/GCF_030316605.1/download?include_annotation_type=DEFAULT,GENOME_FASTA'"
      ]
     },
     "execution_count": 11,
     "metadata": {},
     "output_type": "execute_result"
    }
   ],
   "source": [
    "urls_download"
   ]
  },
  {
   "cell_type": "markdown",
   "metadata": {},
   "source": [
    "List All download URL"
   ]
  },
  {
   "cell_type": "code",
   "execution_count": 12,
   "metadata": {},
   "outputs": [
    {
     "data": {
      "text/html": [
       "<div>\n",
       "<style scoped>\n",
       "    .dataframe tbody tr th:only-of-type {\n",
       "        vertical-align: middle;\n",
       "    }\n",
       "\n",
       "    .dataframe tbody tr th {\n",
       "        vertical-align: top;\n",
       "    }\n",
       "\n",
       "    .dataframe thead th {\n",
       "        text-align: right;\n",
       "    }\n",
       "</style>\n",
       "<table border=\"1\" class=\"dataframe\">\n",
       "  <thead>\n",
       "    <tr style=\"text-align: right;\">\n",
       "      <th></th>\n",
       "      <th>accession</th>\n",
       "      <th>tax_id</th>\n",
       "      <th>organism_name</th>\n",
       "    </tr>\n",
       "  </thead>\n",
       "  <tbody>\n",
       "    <tr>\n",
       "      <th>0</th>\n",
       "      <td>GCF_000006945.2</td>\n",
       "      <td>99287</td>\n",
       "      <td>Salmonella enterica subsp. enterica serovar Ty...</td>\n",
       "    </tr>\n",
       "    <tr>\n",
       "      <th>1</th>\n",
       "      <td>GCF_000195955.2</td>\n",
       "      <td>83332</td>\n",
       "      <td>Mycobacterium tuberculosis H37Rv</td>\n",
       "    </tr>\n",
       "    <tr>\n",
       "      <th>2</th>\n",
       "      <td>GCF_000009045.1</td>\n",
       "      <td>224308</td>\n",
       "      <td>Bacillus subtilis subsp. subtilis str. 168</td>\n",
       "    </tr>\n",
       "    <tr>\n",
       "      <th>3</th>\n",
       "      <td>GCF_000005845.2</td>\n",
       "      <td>511145</td>\n",
       "      <td>Escherichia coli str. K-12 substr. MG1655</td>\n",
       "    </tr>\n",
       "    <tr>\n",
       "      <th>4</th>\n",
       "      <td>GCF_000008865.2</td>\n",
       "      <td>386585</td>\n",
       "      <td>Escherichia coli O157:H7 str. Sakai</td>\n",
       "    </tr>\n",
       "    <tr>\n",
       "      <th>...</th>\n",
       "      <td>...</td>\n",
       "      <td>...</td>\n",
       "      <td>...</td>\n",
       "    </tr>\n",
       "    <tr>\n",
       "      <th>995</th>\n",
       "      <td>GCF_001042695.1</td>\n",
       "      <td>1150468</td>\n",
       "      <td>Scardovia inopinata JCM 12537</td>\n",
       "    </tr>\n",
       "    <tr>\n",
       "      <th>996</th>\n",
       "      <td>GCF_003339775.1</td>\n",
       "      <td>1276259</td>\n",
       "      <td>Spiroplasma phoeniceum P40</td>\n",
       "    </tr>\n",
       "    <tr>\n",
       "      <th>997</th>\n",
       "      <td>GCF_000319575.2</td>\n",
       "      <td>1260251</td>\n",
       "      <td>Spiribacter salinus M19-40</td>\n",
       "    </tr>\n",
       "    <tr>\n",
       "      <th>998</th>\n",
       "      <td>GCF_000020145.1</td>\n",
       "      <td>445932</td>\n",
       "      <td>Elusimicrobium minutum Pei191</td>\n",
       "    </tr>\n",
       "    <tr>\n",
       "      <th>999</th>\n",
       "      <td>GCF_000024225.1</td>\n",
       "      <td>521095</td>\n",
       "      <td>Lancefieldella parvula DSM 20469</td>\n",
       "    </tr>\n",
       "  </tbody>\n",
       "</table>\n",
       "<p>1000 rows × 3 columns</p>\n",
       "</div>"
      ],
      "text/plain": [
       "           accession   tax_id  \\\n",
       "0    GCF_000006945.2    99287   \n",
       "1    GCF_000195955.2    83332   \n",
       "2    GCF_000009045.1   224308   \n",
       "3    GCF_000005845.2   511145   \n",
       "4    GCF_000008865.2   386585   \n",
       "..               ...      ...   \n",
       "995  GCF_001042695.1  1150468   \n",
       "996  GCF_003339775.1  1276259   \n",
       "997  GCF_000319575.2  1260251   \n",
       "998  GCF_000020145.1   445932   \n",
       "999  GCF_000024225.1   521095   \n",
       "\n",
       "                                         organism_name  \n",
       "0    Salmonella enterica subsp. enterica serovar Ty...  \n",
       "1                     Mycobacterium tuberculosis H37Rv  \n",
       "2           Bacillus subtilis subsp. subtilis str. 168  \n",
       "3            Escherichia coli str. K-12 substr. MG1655  \n",
       "4                  Escherichia coli O157:H7 str. Sakai  \n",
       "..                                                 ...  \n",
       "995                      Scardovia inopinata JCM 12537  \n",
       "996                         Spiroplasma phoeniceum P40  \n",
       "997                         Spiribacter salinus M19-40  \n",
       "998                      Elusimicrobium minutum Pei191  \n",
       "999                   Lancefieldella parvula DSM 20469  \n",
       "\n",
       "[1000 rows x 3 columns]"
      ]
     },
     "execution_count": 12,
     "metadata": {},
     "output_type": "execute_result"
    }
   ],
   "source": [
    "data_accession_taxon"
   ]
  },
  {
   "cell_type": "code",
   "execution_count": 13,
   "metadata": {},
   "outputs": [
    {
     "name": "stderr",
     "output_type": "stream",
     "text": [
      "100%|██████████| 1000/1000 [00:00<00:00, 100143.35it/s]\n"
     ]
    }
   ],
   "source": [
    "urls_download_template = \"https://api.ncbi.nlm.nih.gov/datasets/v2alpha/genome/accession/{accession}/download?include_annotation_type=DEFAULT,GENOME_FASTA&filename={filename}\"\n",
    "\n",
    "def get_fasta_url_download(row):\n",
    "    accession = row[\"accession\"]\n",
    "    filename = re.sub('[^a-zA-Z0-9 \\n\\.]', '', row[\"organism_name\"])\n",
    "    filename = filename.replace(\" \", \"\")\n",
    "    filename = filename + \".zip\"\n",
    "    \n",
    "    url_download = urls_download_template.format(accession=accession, filename=filename)\n",
    "    \n",
    "    return url_download\n",
    "\n",
    "\n",
    "data_accession_taxon[\"fasta_url_download\"] = data_accession_taxon.progress_apply(get_fasta_url_download, axis=1)"
   ]
  },
  {
   "cell_type": "code",
   "execution_count": 14,
   "metadata": {},
   "outputs": [
    {
     "data": {
      "text/html": [
       "<div>\n",
       "<style scoped>\n",
       "    .dataframe tbody tr th:only-of-type {\n",
       "        vertical-align: middle;\n",
       "    }\n",
       "\n",
       "    .dataframe tbody tr th {\n",
       "        vertical-align: top;\n",
       "    }\n",
       "\n",
       "    .dataframe thead th {\n",
       "        text-align: right;\n",
       "    }\n",
       "</style>\n",
       "<table border=\"1\" class=\"dataframe\">\n",
       "  <thead>\n",
       "    <tr style=\"text-align: right;\">\n",
       "      <th></th>\n",
       "      <th>accession</th>\n",
       "      <th>tax_id</th>\n",
       "      <th>organism_name</th>\n",
       "      <th>fasta_url_download</th>\n",
       "    </tr>\n",
       "  </thead>\n",
       "  <tbody>\n",
       "    <tr>\n",
       "      <th>0</th>\n",
       "      <td>GCF_000006945.2</td>\n",
       "      <td>99287</td>\n",
       "      <td>Salmonella enterica subsp. enterica serovar Ty...</td>\n",
       "      <td>https://api.ncbi.nlm.nih.gov/datasets/v2alpha/...</td>\n",
       "    </tr>\n",
       "    <tr>\n",
       "      <th>1</th>\n",
       "      <td>GCF_000195955.2</td>\n",
       "      <td>83332</td>\n",
       "      <td>Mycobacterium tuberculosis H37Rv</td>\n",
       "      <td>https://api.ncbi.nlm.nih.gov/datasets/v2alpha/...</td>\n",
       "    </tr>\n",
       "    <tr>\n",
       "      <th>2</th>\n",
       "      <td>GCF_000009045.1</td>\n",
       "      <td>224308</td>\n",
       "      <td>Bacillus subtilis subsp. subtilis str. 168</td>\n",
       "      <td>https://api.ncbi.nlm.nih.gov/datasets/v2alpha/...</td>\n",
       "    </tr>\n",
       "    <tr>\n",
       "      <th>3</th>\n",
       "      <td>GCF_000005845.2</td>\n",
       "      <td>511145</td>\n",
       "      <td>Escherichia coli str. K-12 substr. MG1655</td>\n",
       "      <td>https://api.ncbi.nlm.nih.gov/datasets/v2alpha/...</td>\n",
       "    </tr>\n",
       "    <tr>\n",
       "      <th>4</th>\n",
       "      <td>GCF_000008865.2</td>\n",
       "      <td>386585</td>\n",
       "      <td>Escherichia coli O157:H7 str. Sakai</td>\n",
       "      <td>https://api.ncbi.nlm.nih.gov/datasets/v2alpha/...</td>\n",
       "    </tr>\n",
       "    <tr>\n",
       "      <th>...</th>\n",
       "      <td>...</td>\n",
       "      <td>...</td>\n",
       "      <td>...</td>\n",
       "      <td>...</td>\n",
       "    </tr>\n",
       "    <tr>\n",
       "      <th>995</th>\n",
       "      <td>GCF_001042695.1</td>\n",
       "      <td>1150468</td>\n",
       "      <td>Scardovia inopinata JCM 12537</td>\n",
       "      <td>https://api.ncbi.nlm.nih.gov/datasets/v2alpha/...</td>\n",
       "    </tr>\n",
       "    <tr>\n",
       "      <th>996</th>\n",
       "      <td>GCF_003339775.1</td>\n",
       "      <td>1276259</td>\n",
       "      <td>Spiroplasma phoeniceum P40</td>\n",
       "      <td>https://api.ncbi.nlm.nih.gov/datasets/v2alpha/...</td>\n",
       "    </tr>\n",
       "    <tr>\n",
       "      <th>997</th>\n",
       "      <td>GCF_000319575.2</td>\n",
       "      <td>1260251</td>\n",
       "      <td>Spiribacter salinus M19-40</td>\n",
       "      <td>https://api.ncbi.nlm.nih.gov/datasets/v2alpha/...</td>\n",
       "    </tr>\n",
       "    <tr>\n",
       "      <th>998</th>\n",
       "      <td>GCF_000020145.1</td>\n",
       "      <td>445932</td>\n",
       "      <td>Elusimicrobium minutum Pei191</td>\n",
       "      <td>https://api.ncbi.nlm.nih.gov/datasets/v2alpha/...</td>\n",
       "    </tr>\n",
       "    <tr>\n",
       "      <th>999</th>\n",
       "      <td>GCF_000024225.1</td>\n",
       "      <td>521095</td>\n",
       "      <td>Lancefieldella parvula DSM 20469</td>\n",
       "      <td>https://api.ncbi.nlm.nih.gov/datasets/v2alpha/...</td>\n",
       "    </tr>\n",
       "  </tbody>\n",
       "</table>\n",
       "<p>1000 rows × 4 columns</p>\n",
       "</div>"
      ],
      "text/plain": [
       "           accession   tax_id  \\\n",
       "0    GCF_000006945.2    99287   \n",
       "1    GCF_000195955.2    83332   \n",
       "2    GCF_000009045.1   224308   \n",
       "3    GCF_000005845.2   511145   \n",
       "4    GCF_000008865.2   386585   \n",
       "..               ...      ...   \n",
       "995  GCF_001042695.1  1150468   \n",
       "996  GCF_003339775.1  1276259   \n",
       "997  GCF_000319575.2  1260251   \n",
       "998  GCF_000020145.1   445932   \n",
       "999  GCF_000024225.1   521095   \n",
       "\n",
       "                                         organism_name  \\\n",
       "0    Salmonella enterica subsp. enterica serovar Ty...   \n",
       "1                     Mycobacterium tuberculosis H37Rv   \n",
       "2           Bacillus subtilis subsp. subtilis str. 168   \n",
       "3            Escherichia coli str. K-12 substr. MG1655   \n",
       "4                  Escherichia coli O157:H7 str. Sakai   \n",
       "..                                                 ...   \n",
       "995                      Scardovia inopinata JCM 12537   \n",
       "996                         Spiroplasma phoeniceum P40   \n",
       "997                         Spiribacter salinus M19-40   \n",
       "998                      Elusimicrobium minutum Pei191   \n",
       "999                   Lancefieldella parvula DSM 20469   \n",
       "\n",
       "                                    fasta_url_download  \n",
       "0    https://api.ncbi.nlm.nih.gov/datasets/v2alpha/...  \n",
       "1    https://api.ncbi.nlm.nih.gov/datasets/v2alpha/...  \n",
       "2    https://api.ncbi.nlm.nih.gov/datasets/v2alpha/...  \n",
       "3    https://api.ncbi.nlm.nih.gov/datasets/v2alpha/...  \n",
       "4    https://api.ncbi.nlm.nih.gov/datasets/v2alpha/...  \n",
       "..                                                 ...  \n",
       "995  https://api.ncbi.nlm.nih.gov/datasets/v2alpha/...  \n",
       "996  https://api.ncbi.nlm.nih.gov/datasets/v2alpha/...  \n",
       "997  https://api.ncbi.nlm.nih.gov/datasets/v2alpha/...  \n",
       "998  https://api.ncbi.nlm.nih.gov/datasets/v2alpha/...  \n",
       "999  https://api.ncbi.nlm.nih.gov/datasets/v2alpha/...  \n",
       "\n",
       "[1000 rows x 4 columns]"
      ]
     },
     "execution_count": 14,
     "metadata": {},
     "output_type": "execute_result"
    }
   ],
   "source": [
    "data_accession_taxon"
   ]
  },
  {
   "cell_type": "code",
   "execution_count": 15,
   "metadata": {},
   "outputs": [
    {
     "data": {
      "text/plain": [
       "'https://api.ncbi.nlm.nih.gov/datasets/v2alpha/genome/accession/GCF_000006945.2/download?include_annotation_type=DEFAULT,GENOME_FASTA&filename=Salmonellaentericasubsp.entericaserovarTyphimuriumstr.LT2.zip'"
      ]
     },
     "execution_count": 15,
     "metadata": {},
     "output_type": "execute_result"
    }
   ],
   "source": [
    "data_accession_taxon.iloc[0].fasta_url_download"
   ]
  },
  {
   "cell_type": "code",
   "execution_count": 16,
   "metadata": {},
   "outputs": [],
   "source": [
    "data_accession_taxon.to_csv(os.path.join(PROCESSED_DATA_PATH, \"data_accession_taxon_fasta.csv\"), index=False)"
   ]
  }
 ],
 "metadata": {
  "kernelspec": {
   "display_name": "Python 3",
   "language": "python",
   "name": "python3"
  },
  "language_info": {
   "codemirror_mode": {
    "name": "ipython",
    "version": 3
   },
   "file_extension": ".py",
   "mimetype": "text/x-python",
   "name": "python",
   "nbconvert_exporter": "python",
   "pygments_lexer": "ipython3",
   "version": "3.8.10"
  }
 },
 "nbformat": 4,
 "nbformat_minor": 2
}
