{
 "cells": [
  {
   "cell_type": "code",
   "execution_count": 1,
   "metadata": {},
   "outputs": [],
   "source": [
    "import requests\n",
    "import json\n",
    "import os\n",
    "import pandas as pd\n",
    "import re\n",
    "from tqdm import tqdm\n",
    "\n",
    "tqdm.pandas()"
   ]
  },
  {
   "cell_type": "code",
   "execution_count": 2,
   "metadata": {},
   "outputs": [],
   "source": [
    "RAW_DATA_PATH = os.path.join(\"data\", \"raw\")\n",
    "PROCESSED_DATA_PATH = os.path.join(\"data\", \"processed\")"
   ]
  },
  {
   "cell_type": "markdown",
   "metadata": {},
   "source": [
    "Load Data CSV Taxon and Acession"
   ]
  },
  {
   "cell_type": "code",
   "execution_count": 3,
   "metadata": {},
   "outputs": [],
   "source": [
    "data_accession_taxon = pd.read_csv(os.path.join(PROCESSED_DATA_PATH, \"data_accession_taxon.csv\"))"
   ]
  },
  {
   "cell_type": "code",
   "execution_count": 4,
   "metadata": {},
   "outputs": [
    {
     "data": {
      "text/plain": [
       "823"
      ]
     },
     "execution_count": 4,
     "metadata": {},
     "output_type": "execute_result"
    }
   ],
   "source": [
    "len(data_accession_taxon[\"tax_id\"].unique())"
   ]
  },
  {
   "cell_type": "code",
   "execution_count": 5,
   "metadata": {},
   "outputs": [
    {
     "data": {
      "text/html": [
       "<div>\n",
       "<style scoped>\n",
       "    .dataframe tbody tr th:only-of-type {\n",
       "        vertical-align: middle;\n",
       "    }\n",
       "\n",
       "    .dataframe tbody tr th {\n",
       "        vertical-align: top;\n",
       "    }\n",
       "\n",
       "    .dataframe thead th {\n",
       "        text-align: right;\n",
       "    }\n",
       "</style>\n",
       "<table border=\"1\" class=\"dataframe\">\n",
       "  <thead>\n",
       "    <tr style=\"text-align: right;\">\n",
       "      <th></th>\n",
       "      <th>accession</th>\n",
       "      <th>tax_id</th>\n",
       "      <th>organism_name</th>\n",
       "      <th>common_name</th>\n",
       "    </tr>\n",
       "  </thead>\n",
       "  <tbody>\n",
       "    <tr>\n",
       "      <th>725</th>\n",
       "      <td>GCA_026262465.1</td>\n",
       "      <td>9915</td>\n",
       "      <td>Bos indicus</td>\n",
       "      <td>zebu cattle</td>\n",
       "    </tr>\n",
       "    <tr>\n",
       "      <th>1443</th>\n",
       "      <td>GCA_015145955.1</td>\n",
       "      <td>9606</td>\n",
       "      <td>Homo sapiens</td>\n",
       "      <td>human</td>\n",
       "    </tr>\n",
       "    <tr>\n",
       "      <th>2460</th>\n",
       "      <td>GCA_900008165.2</td>\n",
       "      <td>9606</td>\n",
       "      <td>Homo sapiens</td>\n",
       "      <td>human</td>\n",
       "    </tr>\n",
       "    <tr>\n",
       "      <th>2509</th>\n",
       "      <td>GCA_904813355.1</td>\n",
       "      <td>9305</td>\n",
       "      <td>Sarcophilus harrisii</td>\n",
       "      <td>Tasmanian devil</td>\n",
       "    </tr>\n",
       "    <tr>\n",
       "      <th>2440</th>\n",
       "      <td>GCA_900008175.2</td>\n",
       "      <td>9606</td>\n",
       "      <td>Homo sapiens</td>\n",
       "      <td>human</td>\n",
       "    </tr>\n",
       "  </tbody>\n",
       "</table>\n",
       "</div>"
      ],
      "text/plain": [
       "            accession  tax_id         organism_name      common_name\n",
       "725   GCA_026262465.1    9915           Bos indicus      zebu cattle\n",
       "1443  GCA_015145955.1    9606          Homo sapiens            human\n",
       "2460  GCA_900008165.2    9606          Homo sapiens            human\n",
       "2509  GCA_904813355.1    9305  Sarcophilus harrisii  Tasmanian devil\n",
       "2440  GCA_900008175.2    9606          Homo sapiens            human"
      ]
     },
     "execution_count": 5,
     "metadata": {},
     "output_type": "execute_result"
    }
   ],
   "source": [
    "data_accession_taxon.sample(5)"
   ]
  },
  {
   "cell_type": "code",
   "execution_count": 6,
   "metadata": {},
   "outputs": [
    {
     "data": {
      "text/html": [
       "<div>\n",
       "<style scoped>\n",
       "    .dataframe tbody tr th:only-of-type {\n",
       "        vertical-align: middle;\n",
       "    }\n",
       "\n",
       "    .dataframe tbody tr th {\n",
       "        vertical-align: top;\n",
       "    }\n",
       "\n",
       "    .dataframe thead th {\n",
       "        text-align: right;\n",
       "    }\n",
       "</style>\n",
       "<table border=\"1\" class=\"dataframe\">\n",
       "  <thead>\n",
       "    <tr style=\"text-align: right;\">\n",
       "      <th></th>\n",
       "      <th>accession</th>\n",
       "      <th>tax_id</th>\n",
       "      <th>organism_name</th>\n",
       "      <th>common_name</th>\n",
       "    </tr>\n",
       "  </thead>\n",
       "  <tbody>\n",
       "  </tbody>\n",
       "</table>\n",
       "</div>"
      ],
      "text/plain": [
       "Empty DataFrame\n",
       "Columns: [accession, tax_id, organism_name, common_name]\n",
       "Index: []"
      ]
     },
     "execution_count": 6,
     "metadata": {},
     "output_type": "execute_result"
    }
   ],
   "source": [
    "data_accession_taxon[data_accession_taxon.organism_name.str.contains(\"ixo\")]"
   ]
  },
  {
   "cell_type": "markdown",
   "metadata": {},
   "source": [
    "URL Download FASTA"
   ]
  },
  {
   "cell_type": "code",
   "execution_count": 7,
   "metadata": {},
   "outputs": [],
   "source": [
    "urls_summary = \"https://api.ncbi.nlm.nih.gov/datasets/v2alpha/genome/accession/{accession}/download_summary?include_annotation_type[0]=GENOME_FASTA\""
   ]
  },
  {
   "cell_type": "code",
   "execution_count": 8,
   "metadata": {},
   "outputs": [
    {
     "data": {
      "text/plain": [
       "'https://api.ncbi.nlm.nih.gov/datasets/v2alpha/genome/accession/GCF_030316605.1/download_summary?include_annotation_type[0]=GENOME_FASTA'"
      ]
     },
     "execution_count": 8,
     "metadata": {},
     "output_type": "execute_result"
    }
   ],
   "source": [
    "urls_summary.format(accession=\"GCF_030316605.1\")"
   ]
  },
  {
   "cell_type": "code",
   "execution_count": 9,
   "metadata": {},
   "outputs": [],
   "source": [
    "summary_response = requests.get(urls_summary.format(accession=\"GCF_030316605.1\"))"
   ]
  },
  {
   "cell_type": "code",
   "execution_count": 10,
   "metadata": {},
   "outputs": [
    {
     "name": "stdout",
     "output_type": "stream",
     "text": [
      "{\n",
      "    \"record_count\": 1,\n",
      "    \"resource_updated_on\": \"2023-11-22T05:35:23Z\",\n",
      "    \"hydrated\": {\n",
      "        \"estimated_file_size_mb\": 1,\n",
      "        \"url\": \"https://api.ncbi.nlm.nih.gov/datasets/v2alpha/genome/accession/GCF_030316605.1/download?include_annotation_type=DEFAULT,GENOME_FASTA\",\n",
      "        \"cli_download_command_line\": \"datasets download genome accession GCF_030316605.1 --include genome\"\n",
      "    },\n",
      "    \"dehydrated\": {\n",
      "        \"estimated_file_size_mb\": 1,\n",
      "        \"url\": \"https://api.ncbi.nlm.nih.gov/datasets/v2alpha/genome/accession/GCF_030316605.1/download?hydrated=DATA_REPORT_ONLY&include_annotation_type=DEFAULT,GENOME_FASTA\",\n",
      "        \"cli_download_command_line\": \"datasets download genome accession GCF_030316605.1 --include genome --dehydrated\",\n",
      "        \"cli_rehydrate_command_line\": \"datasets rehydrate --help\"\n",
      "    },\n",
      "    \"available_files\": {\n",
      "        \"all_genomic_fasta\": {\n",
      "            \"file_count\": 1,\n",
      "            \"size_mb\": 0.5104723\n",
      "        },\n",
      "        \"genome_gff\": {\n",
      "            \"file_count\": 1,\n",
      "            \"size_mb\": 0.16258144\n",
      "        },\n",
      "        \"genome_gbff\": {\n",
      "            \"file_count\": 1,\n",
      "            \"size_mb\": 1.3697662\n",
      "        },\n",
      "        \"rna_fasta\": {},\n",
      "        \"prot_fasta\": {\n",
      "            \"file_count\": 1,\n",
      "            \"size_mb\": 0.26344204\n",
      "        },\n",
      "        \"genome_gtf\": {\n",
      "            \"file_count\": 1,\n",
      "            \"size_mb\": 0.20510769\n",
      "        },\n",
      "        \"cds_fasta\": {\n",
      "            \"file_count\": 1,\n",
      "            \"size_mb\": 0.48178196\n",
      "        },\n",
      "        \"sequence_report\": {\n",
      "            \"file_count\": 1,\n",
      "            \"size_mb\": 0.0017442703\n",
      "        }\n",
      "    }\n",
      "}\n"
     ]
    }
   ],
   "source": [
    "print(json.dumps(summary_response.json(), indent = 4))"
   ]
  },
  {
   "cell_type": "code",
   "execution_count": 11,
   "metadata": {},
   "outputs": [],
   "source": [
    "urls_download = summary_response.json()[\"hydrated\"][\"url\"]"
   ]
  },
  {
   "cell_type": "code",
   "execution_count": 12,
   "metadata": {},
   "outputs": [
    {
     "data": {
      "text/plain": [
       "'https://api.ncbi.nlm.nih.gov/datasets/v2alpha/genome/accession/GCF_030316605.1/download?include_annotation_type=DEFAULT,GENOME_FASTA'"
      ]
     },
     "execution_count": 12,
     "metadata": {},
     "output_type": "execute_result"
    }
   ],
   "source": [
    "urls_download"
   ]
  },
  {
   "cell_type": "markdown",
   "metadata": {},
   "source": [
    "List All download URL"
   ]
  },
  {
   "cell_type": "code",
   "execution_count": 13,
   "metadata": {},
   "outputs": [
    {
     "data": {
      "text/html": [
       "<div>\n",
       "<style scoped>\n",
       "    .dataframe tbody tr th:only-of-type {\n",
       "        vertical-align: middle;\n",
       "    }\n",
       "\n",
       "    .dataframe tbody tr th {\n",
       "        vertical-align: top;\n",
       "    }\n",
       "\n",
       "    .dataframe thead th {\n",
       "        text-align: right;\n",
       "    }\n",
       "</style>\n",
       "<table border=\"1\" class=\"dataframe\">\n",
       "  <thead>\n",
       "    <tr style=\"text-align: right;\">\n",
       "      <th></th>\n",
       "      <th>accession</th>\n",
       "      <th>tax_id</th>\n",
       "      <th>organism_name</th>\n",
       "      <th>common_name</th>\n",
       "    </tr>\n",
       "  </thead>\n",
       "  <tbody>\n",
       "    <tr>\n",
       "      <th>0</th>\n",
       "      <td>GCF_000001405.40</td>\n",
       "      <td>9606</td>\n",
       "      <td>Homo sapiens</td>\n",
       "      <td>human</td>\n",
       "    </tr>\n",
       "    <tr>\n",
       "      <th>1</th>\n",
       "      <td>GCF_000001635.27</td>\n",
       "      <td>10090</td>\n",
       "      <td>Mus musculus</td>\n",
       "      <td>house mouse</td>\n",
       "    </tr>\n",
       "    <tr>\n",
       "      <th>2</th>\n",
       "      <td>GCF_019923935.1</td>\n",
       "      <td>89462</td>\n",
       "      <td>Bubalus bubalis</td>\n",
       "      <td>water buffalo</td>\n",
       "    </tr>\n",
       "    <tr>\n",
       "      <th>3</th>\n",
       "      <td>GCA_023701655.1</td>\n",
       "      <td>2918886</td>\n",
       "      <td>Ovis ammon polii x Ovis aries</td>\n",
       "      <td>NaN</td>\n",
       "    </tr>\n",
       "    <tr>\n",
       "      <th>4</th>\n",
       "      <td>GCA_032405125.1</td>\n",
       "      <td>34865</td>\n",
       "      <td>Capricornis sumatraensis</td>\n",
       "      <td>Sumatran serow</td>\n",
       "    </tr>\n",
       "    <tr>\n",
       "      <th>...</th>\n",
       "      <td>...</td>\n",
       "      <td>...</td>\n",
       "      <td>...</td>\n",
       "      <td>...</td>\n",
       "    </tr>\n",
       "    <tr>\n",
       "      <th>2853</th>\n",
       "      <td>GCA_016894425.1</td>\n",
       "      <td>9606</td>\n",
       "      <td>Homo sapiens</td>\n",
       "      <td>human</td>\n",
       "    </tr>\n",
       "    <tr>\n",
       "      <th>2854</th>\n",
       "      <td>GCA_023065335.1</td>\n",
       "      <td>9823</td>\n",
       "      <td>Sus scrofa</td>\n",
       "      <td>pig</td>\n",
       "    </tr>\n",
       "    <tr>\n",
       "      <th>2855</th>\n",
       "      <td>GCA_023065355.1</td>\n",
       "      <td>9823</td>\n",
       "      <td>Sus scrofa</td>\n",
       "      <td>pig</td>\n",
       "    </tr>\n",
       "    <tr>\n",
       "      <th>2856</th>\n",
       "      <td>GCA_030378505.1</td>\n",
       "      <td>9913</td>\n",
       "      <td>Bos taurus</td>\n",
       "      <td>cattle</td>\n",
       "    </tr>\n",
       "    <tr>\n",
       "      <th>2857</th>\n",
       "      <td>GCA_030512445.1</td>\n",
       "      <td>9940</td>\n",
       "      <td>Ovis aries</td>\n",
       "      <td>sheep</td>\n",
       "    </tr>\n",
       "  </tbody>\n",
       "</table>\n",
       "<p>2858 rows × 4 columns</p>\n",
       "</div>"
      ],
      "text/plain": [
       "             accession   tax_id                  organism_name     common_name\n",
       "0     GCF_000001405.40     9606                   Homo sapiens           human\n",
       "1     GCF_000001635.27    10090                   Mus musculus     house mouse\n",
       "2      GCF_019923935.1    89462                Bubalus bubalis   water buffalo\n",
       "3      GCA_023701655.1  2918886  Ovis ammon polii x Ovis aries             NaN\n",
       "4      GCA_032405125.1    34865       Capricornis sumatraensis  Sumatran serow\n",
       "...                ...      ...                            ...             ...\n",
       "2853   GCA_016894425.1     9606                   Homo sapiens           human\n",
       "2854   GCA_023065335.1     9823                     Sus scrofa             pig\n",
       "2855   GCA_023065355.1     9823                     Sus scrofa             pig\n",
       "2856   GCA_030378505.1     9913                     Bos taurus          cattle\n",
       "2857   GCA_030512445.1     9940                     Ovis aries           sheep\n",
       "\n",
       "[2858 rows x 4 columns]"
      ]
     },
     "execution_count": 13,
     "metadata": {},
     "output_type": "execute_result"
    }
   ],
   "source": [
    "data_accession_taxon"
   ]
  },
  {
   "cell_type": "code",
   "execution_count": 14,
   "metadata": {},
   "outputs": [
    {
     "name": "stderr",
     "output_type": "stream",
     "text": [
      "100%|██████████| 2858/2858 [00:00<00:00, 114986.29it/s]\n"
     ]
    }
   ],
   "source": [
    "urls_download_template = \"https://api.ncbi.nlm.nih.gov/datasets/v2alpha/genome/accession/{accession}/download?include_annotation_type=DEFAULT&filename={filename}\"\n",
    "\n",
    "def get_fasta_url_download(row):\n",
    "    accession = row[\"accession\"]\n",
    "    filename = re.sub('[^a-zA-Z0-9 \\n\\.]', '', row[\"organism_name\"])\n",
    "    filename = filename.replace(\" \", \"\")\n",
    "    filename = filename + \".zip\"\n",
    "    \n",
    "    url_download = urls_download_template.format(accession=accession, filename=filename)\n",
    "    \n",
    "    return url_download\n",
    "\n",
    "\n",
    "data_accession_taxon[\"fasta_url_download\"] = data_accession_taxon.progress_apply(get_fasta_url_download, axis=1)"
   ]
  },
  {
   "cell_type": "code",
   "execution_count": 15,
   "metadata": {},
   "outputs": [
    {
     "data": {
      "text/html": [
       "<div>\n",
       "<style scoped>\n",
       "    .dataframe tbody tr th:only-of-type {\n",
       "        vertical-align: middle;\n",
       "    }\n",
       "\n",
       "    .dataframe tbody tr th {\n",
       "        vertical-align: top;\n",
       "    }\n",
       "\n",
       "    .dataframe thead th {\n",
       "        text-align: right;\n",
       "    }\n",
       "</style>\n",
       "<table border=\"1\" class=\"dataframe\">\n",
       "  <thead>\n",
       "    <tr style=\"text-align: right;\">\n",
       "      <th></th>\n",
       "      <th>accession</th>\n",
       "      <th>tax_id</th>\n",
       "      <th>organism_name</th>\n",
       "      <th>common_name</th>\n",
       "      <th>fasta_url_download</th>\n",
       "    </tr>\n",
       "  </thead>\n",
       "  <tbody>\n",
       "    <tr>\n",
       "      <th>0</th>\n",
       "      <td>GCF_000001405.40</td>\n",
       "      <td>9606</td>\n",
       "      <td>Homo sapiens</td>\n",
       "      <td>human</td>\n",
       "      <td>https://api.ncbi.nlm.nih.gov/datasets/v2alpha/...</td>\n",
       "    </tr>\n",
       "    <tr>\n",
       "      <th>1</th>\n",
       "      <td>GCF_000001635.27</td>\n",
       "      <td>10090</td>\n",
       "      <td>Mus musculus</td>\n",
       "      <td>house mouse</td>\n",
       "      <td>https://api.ncbi.nlm.nih.gov/datasets/v2alpha/...</td>\n",
       "    </tr>\n",
       "    <tr>\n",
       "      <th>2</th>\n",
       "      <td>GCF_019923935.1</td>\n",
       "      <td>89462</td>\n",
       "      <td>Bubalus bubalis</td>\n",
       "      <td>water buffalo</td>\n",
       "      <td>https://api.ncbi.nlm.nih.gov/datasets/v2alpha/...</td>\n",
       "    </tr>\n",
       "    <tr>\n",
       "      <th>3</th>\n",
       "      <td>GCA_023701655.1</td>\n",
       "      <td>2918886</td>\n",
       "      <td>Ovis ammon polii x Ovis aries</td>\n",
       "      <td>NaN</td>\n",
       "      <td>https://api.ncbi.nlm.nih.gov/datasets/v2alpha/...</td>\n",
       "    </tr>\n",
       "    <tr>\n",
       "      <th>4</th>\n",
       "      <td>GCA_032405125.1</td>\n",
       "      <td>34865</td>\n",
       "      <td>Capricornis sumatraensis</td>\n",
       "      <td>Sumatran serow</td>\n",
       "      <td>https://api.ncbi.nlm.nih.gov/datasets/v2alpha/...</td>\n",
       "    </tr>\n",
       "    <tr>\n",
       "      <th>...</th>\n",
       "      <td>...</td>\n",
       "      <td>...</td>\n",
       "      <td>...</td>\n",
       "      <td>...</td>\n",
       "      <td>...</td>\n",
       "    </tr>\n",
       "    <tr>\n",
       "      <th>2853</th>\n",
       "      <td>GCA_016894425.1</td>\n",
       "      <td>9606</td>\n",
       "      <td>Homo sapiens</td>\n",
       "      <td>human</td>\n",
       "      <td>https://api.ncbi.nlm.nih.gov/datasets/v2alpha/...</td>\n",
       "    </tr>\n",
       "    <tr>\n",
       "      <th>2854</th>\n",
       "      <td>GCA_023065335.1</td>\n",
       "      <td>9823</td>\n",
       "      <td>Sus scrofa</td>\n",
       "      <td>pig</td>\n",
       "      <td>https://api.ncbi.nlm.nih.gov/datasets/v2alpha/...</td>\n",
       "    </tr>\n",
       "    <tr>\n",
       "      <th>2855</th>\n",
       "      <td>GCA_023065355.1</td>\n",
       "      <td>9823</td>\n",
       "      <td>Sus scrofa</td>\n",
       "      <td>pig</td>\n",
       "      <td>https://api.ncbi.nlm.nih.gov/datasets/v2alpha/...</td>\n",
       "    </tr>\n",
       "    <tr>\n",
       "      <th>2856</th>\n",
       "      <td>GCA_030378505.1</td>\n",
       "      <td>9913</td>\n",
       "      <td>Bos taurus</td>\n",
       "      <td>cattle</td>\n",
       "      <td>https://api.ncbi.nlm.nih.gov/datasets/v2alpha/...</td>\n",
       "    </tr>\n",
       "    <tr>\n",
       "      <th>2857</th>\n",
       "      <td>GCA_030512445.1</td>\n",
       "      <td>9940</td>\n",
       "      <td>Ovis aries</td>\n",
       "      <td>sheep</td>\n",
       "      <td>https://api.ncbi.nlm.nih.gov/datasets/v2alpha/...</td>\n",
       "    </tr>\n",
       "  </tbody>\n",
       "</table>\n",
       "<p>2858 rows × 5 columns</p>\n",
       "</div>"
      ],
      "text/plain": [
       "             accession   tax_id                  organism_name  \\\n",
       "0     GCF_000001405.40     9606                   Homo sapiens   \n",
       "1     GCF_000001635.27    10090                   Mus musculus   \n",
       "2      GCF_019923935.1    89462                Bubalus bubalis   \n",
       "3      GCA_023701655.1  2918886  Ovis ammon polii x Ovis aries   \n",
       "4      GCA_032405125.1    34865       Capricornis sumatraensis   \n",
       "...                ...      ...                            ...   \n",
       "2853   GCA_016894425.1     9606                   Homo sapiens   \n",
       "2854   GCA_023065335.1     9823                     Sus scrofa   \n",
       "2855   GCA_023065355.1     9823                     Sus scrofa   \n",
       "2856   GCA_030378505.1     9913                     Bos taurus   \n",
       "2857   GCA_030512445.1     9940                     Ovis aries   \n",
       "\n",
       "         common_name                                 fasta_url_download  \n",
       "0              human  https://api.ncbi.nlm.nih.gov/datasets/v2alpha/...  \n",
       "1        house mouse  https://api.ncbi.nlm.nih.gov/datasets/v2alpha/...  \n",
       "2      water buffalo  https://api.ncbi.nlm.nih.gov/datasets/v2alpha/...  \n",
       "3                NaN  https://api.ncbi.nlm.nih.gov/datasets/v2alpha/...  \n",
       "4     Sumatran serow  https://api.ncbi.nlm.nih.gov/datasets/v2alpha/...  \n",
       "...              ...                                                ...  \n",
       "2853           human  https://api.ncbi.nlm.nih.gov/datasets/v2alpha/...  \n",
       "2854             pig  https://api.ncbi.nlm.nih.gov/datasets/v2alpha/...  \n",
       "2855             pig  https://api.ncbi.nlm.nih.gov/datasets/v2alpha/...  \n",
       "2856          cattle  https://api.ncbi.nlm.nih.gov/datasets/v2alpha/...  \n",
       "2857           sheep  https://api.ncbi.nlm.nih.gov/datasets/v2alpha/...  \n",
       "\n",
       "[2858 rows x 5 columns]"
      ]
     },
     "execution_count": 15,
     "metadata": {},
     "output_type": "execute_result"
    }
   ],
   "source": [
    "data_accession_taxon"
   ]
  },
  {
   "cell_type": "code",
   "execution_count": 16,
   "metadata": {},
   "outputs": [
    {
     "data": {
      "text/plain": [
       "'https://api.ncbi.nlm.nih.gov/datasets/v2alpha/genome/accession/GCF_000001405.40/download?include_annotation_type=DEFAULT&filename=Homosapiens.zip'"
      ]
     },
     "execution_count": 16,
     "metadata": {},
     "output_type": "execute_result"
    }
   ],
   "source": [
    "data_accession_taxon.iloc[0].fasta_url_download"
   ]
  },
  {
   "cell_type": "code",
   "execution_count": 17,
   "metadata": {},
   "outputs": [],
   "source": [
    "data_accession_taxon.to_csv(os.path.join(PROCESSED_DATA_PATH, \"data_accession_taxon_fasta.csv\"), index=False)"
   ]
  }
 ],
 "metadata": {
  "kernelspec": {
   "display_name": "Python 3",
   "language": "python",
   "name": "python3"
  },
  "language_info": {
   "codemirror_mode": {
    "name": "ipython",
    "version": 3
   },
   "file_extension": ".py",
   "mimetype": "text/x-python",
   "name": "python",
   "nbconvert_exporter": "python",
   "pygments_lexer": "ipython3",
   "version": "3.8.10"
  }
 },
 "nbformat": 4,
 "nbformat_minor": 2
}
