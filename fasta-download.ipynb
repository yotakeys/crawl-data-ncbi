{
 "cells": [
  {
   "cell_type": "code",
   "execution_count": 8,
   "metadata": {},
   "outputs": [],
   "source": [
    "import requests\n",
    "import json\n",
    "import os\n",
    "import pandas as pd"
   ]
  },
  {
   "cell_type": "code",
   "execution_count": 9,
   "metadata": {},
   "outputs": [],
   "source": [
    "RAW_DATA_PATH = os.path.join(\"data\", \"raw\")\n",
    "PROCESSED_DATA_PATH = os.path.join(\"data\", \"processed\")"
   ]
  },
  {
   "cell_type": "markdown",
   "metadata": {},
   "source": [
    "Load Data CSV Taxon and Acession"
   ]
  },
  {
   "cell_type": "code",
   "execution_count": 10,
   "metadata": {},
   "outputs": [],
   "source": [
    "data_accession_taxon = pd.read_csv(os.path.join(PROCESSED_DATA_PATH, \"data_accession_taxon.csv\"))"
   ]
  },
  {
   "cell_type": "code",
   "execution_count": 12,
   "metadata": {},
   "outputs": [
    {
     "data": {
      "text/html": [
       "<div>\n",
       "<style scoped>\n",
       "    .dataframe tbody tr th:only-of-type {\n",
       "        vertical-align: middle;\n",
       "    }\n",
       "\n",
       "    .dataframe tbody tr th {\n",
       "        vertical-align: top;\n",
       "    }\n",
       "\n",
       "    .dataframe thead th {\n",
       "        text-align: right;\n",
       "    }\n",
       "</style>\n",
       "<table border=\"1\" class=\"dataframe\">\n",
       "  <thead>\n",
       "    <tr style=\"text-align: right;\">\n",
       "      <th></th>\n",
       "      <th>accession</th>\n",
       "      <th>tax_id</th>\n",
       "      <th>organism_name</th>\n",
       "    </tr>\n",
       "  </thead>\n",
       "  <tbody>\n",
       "    <tr>\n",
       "      <th>987</th>\n",
       "      <td>GCF_030316605.1</td>\n",
       "      <td>1276219</td>\n",
       "      <td>Spiroplasma ixodetis Y32</td>\n",
       "    </tr>\n",
       "    <tr>\n",
       "      <th>690</th>\n",
       "      <td>GCF_000242915.1</td>\n",
       "      <td>929558</td>\n",
       "      <td>Sulfurimonas gotlandica GD1</td>\n",
       "    </tr>\n",
       "    <tr>\n",
       "      <th>277</th>\n",
       "      <td>GCF_027554905.1</td>\n",
       "      <td>145262</td>\n",
       "      <td>Methanothermobacter thermautotrophicus</td>\n",
       "    </tr>\n",
       "    <tr>\n",
       "      <th>403</th>\n",
       "      <td>GCF_008931805.1</td>\n",
       "      <td>1202962</td>\n",
       "      <td>Moritella marina ATCC 15381</td>\n",
       "    </tr>\n",
       "    <tr>\n",
       "      <th>732</th>\n",
       "      <td>GCF_002278035.1</td>\n",
       "      <td>271865</td>\n",
       "      <td>[Ochrobactrum] quorumnocens</td>\n",
       "    </tr>\n",
       "  </tbody>\n",
       "</table>\n",
       "</div>"
      ],
      "text/plain": [
       "           accession   tax_id                           organism_name\n",
       "987  GCF_030316605.1  1276219                Spiroplasma ixodetis Y32\n",
       "690  GCF_000242915.1   929558             Sulfurimonas gotlandica GD1\n",
       "277  GCF_027554905.1   145262  Methanothermobacter thermautotrophicus\n",
       "403  GCF_008931805.1  1202962             Moritella marina ATCC 15381\n",
       "732  GCF_002278035.1   271865             [Ochrobactrum] quorumnocens"
      ]
     },
     "execution_count": 12,
     "metadata": {},
     "output_type": "execute_result"
    }
   ],
   "source": [
    "data_accession_taxon.sample(5)"
   ]
  },
  {
   "cell_type": "code",
   "execution_count": 19,
   "metadata": {},
   "outputs": [
    {
     "data": {
      "text/html": [
       "<div>\n",
       "<style scoped>\n",
       "    .dataframe tbody tr th:only-of-type {\n",
       "        vertical-align: middle;\n",
       "    }\n",
       "\n",
       "    .dataframe tbody tr th {\n",
       "        vertical-align: top;\n",
       "    }\n",
       "\n",
       "    .dataframe thead th {\n",
       "        text-align: right;\n",
       "    }\n",
       "</style>\n",
       "<table border=\"1\" class=\"dataframe\">\n",
       "  <thead>\n",
       "    <tr style=\"text-align: right;\">\n",
       "      <th></th>\n",
       "      <th>accession</th>\n",
       "      <th>tax_id</th>\n",
       "      <th>organism_name</th>\n",
       "    </tr>\n",
       "  </thead>\n",
       "  <tbody>\n",
       "    <tr>\n",
       "      <th>987</th>\n",
       "      <td>GCF_030316605.1</td>\n",
       "      <td>1276219</td>\n",
       "      <td>Spiroplasma ixodetis Y32</td>\n",
       "    </tr>\n",
       "  </tbody>\n",
       "</table>\n",
       "</div>"
      ],
      "text/plain": [
       "           accession   tax_id             organism_name\n",
       "987  GCF_030316605.1  1276219  Spiroplasma ixodetis Y32"
      ]
     },
     "execution_count": 19,
     "metadata": {},
     "output_type": "execute_result"
    }
   ],
   "source": [
    "data_accession_taxon[data_accession_taxon.organism_name.str.contains(\"ixo\")]"
   ]
  },
  {
   "cell_type": "markdown",
   "metadata": {},
   "source": [
    "Url Download FASTA"
   ]
  },
  {
   "cell_type": "code",
   "execution_count": 5,
   "metadata": {},
   "outputs": [],
   "source": [
    "urls_summary = \"https://api.ncbi.nlm.nih.gov/datasets/v2alpha/genome/accession/{accession}/download_summary?include_annotation_type[0]=GENOME_FASTA\""
   ]
  },
  {
   "cell_type": "code",
   "execution_count": 20,
   "metadata": {},
   "outputs": [
    {
     "data": {
      "text/plain": [
       "'https://api.ncbi.nlm.nih.gov/datasets/v2alpha/genome/accession/GCF_030316605.1/download_summary?include_annotation_type[0]=GENOME_FASTA'"
      ]
     },
     "execution_count": 20,
     "metadata": {},
     "output_type": "execute_result"
    }
   ],
   "source": [
    "urls_summary.format(accession=\"GCF_030316605.1\")"
   ]
  },
  {
   "cell_type": "code",
   "execution_count": 21,
   "metadata": {},
   "outputs": [],
   "source": [
    "summary_response = requests.get(urls_summary.format(accession=\"GCF_030316605.1\"))"
   ]
  },
  {
   "cell_type": "code",
   "execution_count": 24,
   "metadata": {},
   "outputs": [
    {
     "name": "stdout",
     "output_type": "stream",
     "text": [
      "{\n",
      "    \"record_count\": 1,\n",
      "    \"resource_updated_on\": \"2023-10-14T03:40:16Z\",\n",
      "    \"hydrated\": {\n",
      "        \"estimated_file_size_mb\": 1,\n",
      "        \"url\": \"https://api.ncbi.nlm.nih.gov/datasets/v2alpha/genome/accession/GCF_030316605.1/download?include_annotation_type=DEFAULT,GENOME_FASTA\",\n",
      "        \"cli_download_command_line\": \"datasets download genome accession GCF_030316605.1 --include genome\"\n",
      "    },\n",
      "    \"dehydrated\": {\n",
      "        \"estimated_file_size_mb\": 1,\n",
      "        \"url\": \"https://api.ncbi.nlm.nih.gov/datasets/v2alpha/genome/accession/GCF_030316605.1/download?hydrated=DATA_REPORT_ONLY&include_annotation_type=DEFAULT,GENOME_FASTA\",\n",
      "        \"cli_download_command_line\": \"datasets download genome accession GCF_030316605.1 --include genome --dehydrated\",\n",
      "        \"cli_rehydrate_command_line\": \"datasets rehydrate --help\"\n",
      "    },\n",
      "    \"available_files\": {\n",
      "        \"all_genomic_fasta\": {\n",
      "            \"file_count\": 1,\n",
      "            \"size_mb\": 0.5104723\n",
      "        },\n",
      "        \"genome_gff\": {\n",
      "            \"file_count\": 1,\n",
      "            \"size_mb\": 0.16258144\n",
      "        },\n",
      "        \"genome_gbff\": {\n",
      "            \"file_count\": 1,\n",
      "            \"size_mb\": 1.3697662\n",
      "        },\n",
      "        \"rna_fasta\": {},\n",
      "        \"prot_fasta\": {\n",
      "            \"file_count\": 1,\n",
      "            \"size_mb\": 0.26344204\n",
      "        },\n",
      "        \"genome_gtf\": {\n",
      "            \"file_count\": 1,\n",
      "            \"size_mb\": 0.20510769\n",
      "        },\n",
      "        \"cds_fasta\": {\n",
      "            \"file_count\": 1,\n",
      "            \"size_mb\": 0.48178196\n",
      "        },\n",
      "        \"sequence_report\": {\n",
      "            \"file_count\": 1,\n",
      "            \"size_mb\": 0.0017442703\n",
      "        }\n",
      "    }\n",
      "}\n"
     ]
    }
   ],
   "source": [
    "print(json.dumps(summary_response.json(), indent = 4))"
   ]
  },
  {
   "cell_type": "code",
   "execution_count": 26,
   "metadata": {},
   "outputs": [],
   "source": [
    "urls_download = summary_response.json()[\"hydrated\"][\"url\"]"
   ]
  },
  {
   "cell_type": "code",
   "execution_count": 28,
   "metadata": {},
   "outputs": [
    {
     "data": {
      "text/plain": [
       "'https://api.ncbi.nlm.nih.gov/datasets/v2alpha/genome/accession/GCF_030316605.1/download?include_annotation_type=DEFAULT,GENOME_FASTA'"
      ]
     },
     "execution_count": 28,
     "metadata": {},
     "output_type": "execute_result"
    }
   ],
   "source": [
    "urls_download"
   ]
  },
  {
   "cell_type": "code",
   "execution_count": null,
   "metadata": {},
   "outputs": [],
   "source": []
  }
 ],
 "metadata": {
  "kernelspec": {
   "display_name": "Python 3",
   "language": "python",
   "name": "python3"
  },
  "language_info": {
   "codemirror_mode": {
    "name": "ipython",
    "version": 3
   },
   "file_extension": ".py",
   "mimetype": "text/x-python",
   "name": "python",
   "nbconvert_exporter": "python",
   "pygments_lexer": "ipython3",
   "version": "3.8.10"
  }
 },
 "nbformat": 4,
 "nbformat_minor": 2
}
