{
 "cells": [
  {
   "cell_type": "code",
   "execution_count": 1,
   "metadata": {},
   "outputs": [],
   "source": [
    "import requests\n",
    "import json\n",
    "import os\n",
    "import pandas as pd\n",
    "import re\n",
    "from tqdm import tqdm\n",
    "\n",
    "tqdm.pandas()"
   ]
  },
  {
   "cell_type": "code",
   "execution_count": 2,
   "metadata": {},
   "outputs": [],
   "source": [
    "RAW_DATA_PATH = os.path.join(\"data\", \"raw\")\n",
    "PROCESSED_DATA_PATH = os.path.join(\"data\", \"processed\")"
   ]
  },
  {
   "cell_type": "markdown",
   "metadata": {},
   "source": [
    "Load Data CSV Taxon and Acession"
   ]
  },
  {
   "cell_type": "code",
   "execution_count": 3,
   "metadata": {},
   "outputs": [],
   "source": [
    "data_accession_taxon = pd.read_csv(os.path.join(PROCESSED_DATA_PATH, \"data_accession_taxon.csv\"))"
   ]
  },
  {
   "cell_type": "code",
   "execution_count": 4,
   "metadata": {},
   "outputs": [
    {
     "data": {
      "text/html": [
       "<div>\n",
       "<style scoped>\n",
       "    .dataframe tbody tr th:only-of-type {\n",
       "        vertical-align: middle;\n",
       "    }\n",
       "\n",
       "    .dataframe tbody tr th {\n",
       "        vertical-align: top;\n",
       "    }\n",
       "\n",
       "    .dataframe thead th {\n",
       "        text-align: right;\n",
       "    }\n",
       "</style>\n",
       "<table border=\"1\" class=\"dataframe\">\n",
       "  <thead>\n",
       "    <tr style=\"text-align: right;\">\n",
       "      <th></th>\n",
       "      <th>accession</th>\n",
       "      <th>tax_id</th>\n",
       "      <th>organism_name</th>\n",
       "    </tr>\n",
       "  </thead>\n",
       "  <tbody>\n",
       "    <tr>\n",
       "      <th>114</th>\n",
       "      <td>GCF_905237065.1</td>\n",
       "      <td>8030</td>\n",
       "      <td>Salmo salar</td>\n",
       "    </tr>\n",
       "    <tr>\n",
       "      <th>569</th>\n",
       "      <td>GCA_903992545.1</td>\n",
       "      <td>59474</td>\n",
       "      <td>Pipistrellus pipistrellus</td>\n",
       "    </tr>\n",
       "    <tr>\n",
       "      <th>693</th>\n",
       "      <td>GCA_947568825.1</td>\n",
       "      <td>987436</td>\n",
       "      <td>Sphinx pinastri</td>\n",
       "    </tr>\n",
       "    <tr>\n",
       "      <th>973</th>\n",
       "      <td>GCA_929108735.1</td>\n",
       "      <td>1411666</td>\n",
       "      <td>Andrena dorsata</td>\n",
       "    </tr>\n",
       "    <tr>\n",
       "      <th>841</th>\n",
       "      <td>GCF_017654505.1</td>\n",
       "      <td>7913</td>\n",
       "      <td>Polyodon spathula</td>\n",
       "    </tr>\n",
       "  </tbody>\n",
       "</table>\n",
       "</div>"
      ],
      "text/plain": [
       "           accession   tax_id              organism_name\n",
       "114  GCF_905237065.1     8030                Salmo salar\n",
       "569  GCA_903992545.1    59474  Pipistrellus pipistrellus\n",
       "693  GCA_947568825.1   987436            Sphinx pinastri\n",
       "973  GCA_929108735.1  1411666            Andrena dorsata\n",
       "841  GCF_017654505.1     7913          Polyodon spathula"
      ]
     },
     "execution_count": 4,
     "metadata": {},
     "output_type": "execute_result"
    }
   ],
   "source": [
    "data_accession_taxon.sample(5)"
   ]
  },
  {
   "cell_type": "code",
   "execution_count": 5,
   "metadata": {},
   "outputs": [
    {
     "data": {
      "text/html": [
       "<div>\n",
       "<style scoped>\n",
       "    .dataframe tbody tr th:only-of-type {\n",
       "        vertical-align: middle;\n",
       "    }\n",
       "\n",
       "    .dataframe tbody tr th {\n",
       "        vertical-align: top;\n",
       "    }\n",
       "\n",
       "    .dataframe thead th {\n",
       "        text-align: right;\n",
       "    }\n",
       "</style>\n",
       "<table border=\"1\" class=\"dataframe\">\n",
       "  <thead>\n",
       "    <tr style=\"text-align: right;\">\n",
       "      <th></th>\n",
       "      <th>accession</th>\n",
       "      <th>tax_id</th>\n",
       "      <th>organism_name</th>\n",
       "    </tr>\n",
       "  </thead>\n",
       "  <tbody>\n",
       "  </tbody>\n",
       "</table>\n",
       "</div>"
      ],
      "text/plain": [
       "Empty DataFrame\n",
       "Columns: [accession, tax_id, organism_name]\n",
       "Index: []"
      ]
     },
     "execution_count": 5,
     "metadata": {},
     "output_type": "execute_result"
    }
   ],
   "source": [
    "data_accession_taxon[data_accession_taxon.organism_name.str.contains(\"ixo\")]"
   ]
  },
  {
   "cell_type": "markdown",
   "metadata": {},
   "source": [
    "URL Download FASTA"
   ]
  },
  {
   "cell_type": "code",
   "execution_count": 6,
   "metadata": {},
   "outputs": [],
   "source": [
    "urls_summary = \"https://api.ncbi.nlm.nih.gov/datasets/v2alpha/genome/accession/{accession}/download_summary?include_annotation_type[0]=GENOME_FASTA\""
   ]
  },
  {
   "cell_type": "code",
   "execution_count": 7,
   "metadata": {},
   "outputs": [
    {
     "data": {
      "text/plain": [
       "'https://api.ncbi.nlm.nih.gov/datasets/v2alpha/genome/accession/GCF_030316605.1/download_summary?include_annotation_type[0]=GENOME_FASTA'"
      ]
     },
     "execution_count": 7,
     "metadata": {},
     "output_type": "execute_result"
    }
   ],
   "source": [
    "urls_summary.format(accession=\"GCF_030316605.1\")"
   ]
  },
  {
   "cell_type": "code",
   "execution_count": 8,
   "metadata": {},
   "outputs": [],
   "source": [
    "summary_response = requests.get(urls_summary.format(accession=\"GCF_030316605.1\"))"
   ]
  },
  {
   "cell_type": "code",
   "execution_count": 9,
   "metadata": {},
   "outputs": [
    {
     "name": "stdout",
     "output_type": "stream",
     "text": [
      "{\n",
      "    \"record_count\": 1,\n",
      "    \"resource_updated_on\": \"2023-10-14T03:40:16Z\",\n",
      "    \"hydrated\": {\n",
      "        \"estimated_file_size_mb\": 1,\n",
      "        \"url\": \"https://api.ncbi.nlm.nih.gov/datasets/v2alpha/genome/accession/GCF_030316605.1/download?include_annotation_type=DEFAULT,GENOME_FASTA\",\n",
      "        \"cli_download_command_line\": \"datasets download genome accession GCF_030316605.1 --include genome\"\n",
      "    },\n",
      "    \"dehydrated\": {\n",
      "        \"estimated_file_size_mb\": 1,\n",
      "        \"url\": \"https://api.ncbi.nlm.nih.gov/datasets/v2alpha/genome/accession/GCF_030316605.1/download?hydrated=DATA_REPORT_ONLY&include_annotation_type=DEFAULT,GENOME_FASTA\",\n",
      "        \"cli_download_command_line\": \"datasets download genome accession GCF_030316605.1 --include genome --dehydrated\",\n",
      "        \"cli_rehydrate_command_line\": \"datasets rehydrate --help\"\n",
      "    },\n",
      "    \"available_files\": {\n",
      "        \"all_genomic_fasta\": {\n",
      "            \"file_count\": 1,\n",
      "            \"size_mb\": 0.5104723\n",
      "        },\n",
      "        \"genome_gff\": {\n",
      "            \"file_count\": 1,\n",
      "            \"size_mb\": 0.16258144\n",
      "        },\n",
      "        \"genome_gbff\": {\n",
      "            \"file_count\": 1,\n",
      "            \"size_mb\": 1.3697662\n",
      "        },\n",
      "        \"rna_fasta\": {},\n",
      "        \"prot_fasta\": {\n",
      "            \"file_count\": 1,\n",
      "            \"size_mb\": 0.26344204\n",
      "        },\n",
      "        \"genome_gtf\": {\n",
      "            \"file_count\": 1,\n",
      "            \"size_mb\": 0.20510769\n",
      "        },\n",
      "        \"cds_fasta\": {\n",
      "            \"file_count\": 1,\n",
      "            \"size_mb\": 0.48178196\n",
      "        },\n",
      "        \"sequence_report\": {\n",
      "            \"file_count\": 1,\n",
      "            \"size_mb\": 0.0017442703\n",
      "        }\n",
      "    }\n",
      "}\n"
     ]
    }
   ],
   "source": [
    "print(json.dumps(summary_response.json(), indent = 4))"
   ]
  },
  {
   "cell_type": "code",
   "execution_count": 10,
   "metadata": {},
   "outputs": [],
   "source": [
    "urls_download = summary_response.json()[\"hydrated\"][\"url\"]"
   ]
  },
  {
   "cell_type": "code",
   "execution_count": 11,
   "metadata": {},
   "outputs": [
    {
     "data": {
      "text/plain": [
       "'https://api.ncbi.nlm.nih.gov/datasets/v2alpha/genome/accession/GCF_030316605.1/download?include_annotation_type=DEFAULT,GENOME_FASTA'"
      ]
     },
     "execution_count": 11,
     "metadata": {},
     "output_type": "execute_result"
    }
   ],
   "source": [
    "urls_download"
   ]
  },
  {
   "cell_type": "markdown",
   "metadata": {},
   "source": [
    "List All download URL"
   ]
  },
  {
   "cell_type": "code",
   "execution_count": 12,
   "metadata": {},
   "outputs": [
    {
     "data": {
      "text/html": [
       "<div>\n",
       "<style scoped>\n",
       "    .dataframe tbody tr th:only-of-type {\n",
       "        vertical-align: middle;\n",
       "    }\n",
       "\n",
       "    .dataframe tbody tr th {\n",
       "        vertical-align: top;\n",
       "    }\n",
       "\n",
       "    .dataframe thead th {\n",
       "        text-align: right;\n",
       "    }\n",
       "</style>\n",
       "<table border=\"1\" class=\"dataframe\">\n",
       "  <thead>\n",
       "    <tr style=\"text-align: right;\">\n",
       "      <th></th>\n",
       "      <th>accession</th>\n",
       "      <th>tax_id</th>\n",
       "      <th>organism_name</th>\n",
       "    </tr>\n",
       "  </thead>\n",
       "  <tbody>\n",
       "    <tr>\n",
       "      <th>0</th>\n",
       "      <td>GCF_000002985.6</td>\n",
       "      <td>6239</td>\n",
       "      <td>Caenorhabditis elegans</td>\n",
       "    </tr>\n",
       "    <tr>\n",
       "      <th>1</th>\n",
       "      <td>GCF_000001405.40</td>\n",
       "      <td>9606</td>\n",
       "      <td>Homo sapiens</td>\n",
       "    </tr>\n",
       "    <tr>\n",
       "      <th>2</th>\n",
       "      <td>GCF_000001635.27</td>\n",
       "      <td>10090</td>\n",
       "      <td>Mus musculus</td>\n",
       "    </tr>\n",
       "    <tr>\n",
       "      <th>3</th>\n",
       "      <td>GCF_000001215.4</td>\n",
       "      <td>7227</td>\n",
       "      <td>Drosophila melanogaster</td>\n",
       "    </tr>\n",
       "    <tr>\n",
       "      <th>4</th>\n",
       "      <td>GCF_000002035.6</td>\n",
       "      <td>7955</td>\n",
       "      <td>Danio rerio</td>\n",
       "    </tr>\n",
       "    <tr>\n",
       "      <th>...</th>\n",
       "      <td>...</td>\n",
       "      <td>...</td>\n",
       "      <td>...</td>\n",
       "    </tr>\n",
       "    <tr>\n",
       "      <th>995</th>\n",
       "      <td>GCA_927399485.1</td>\n",
       "      <td>1371681</td>\n",
       "      <td>Calamotropha paludella</td>\n",
       "    </tr>\n",
       "    <tr>\n",
       "      <th>996</th>\n",
       "      <td>GCA_929112965.1</td>\n",
       "      <td>987983</td>\n",
       "      <td>Mythimna albipuncta</td>\n",
       "    </tr>\n",
       "    <tr>\n",
       "      <th>997</th>\n",
       "      <td>GCA_905220435.1</td>\n",
       "      <td>689058</td>\n",
       "      <td>Amphipyra tragopoginis</td>\n",
       "    </tr>\n",
       "    <tr>\n",
       "      <th>998</th>\n",
       "      <td>GCA_907165235.1</td>\n",
       "      <td>1101072</td>\n",
       "      <td>Zeuzera pyrina</td>\n",
       "    </tr>\n",
       "    <tr>\n",
       "      <th>999</th>\n",
       "      <td>GCA_024489055.1</td>\n",
       "      <td>933992</td>\n",
       "      <td>Chanodichthys erythropterus</td>\n",
       "    </tr>\n",
       "  </tbody>\n",
       "</table>\n",
       "<p>1000 rows × 3 columns</p>\n",
       "</div>"
      ],
      "text/plain": [
       "            accession   tax_id                organism_name\n",
       "0     GCF_000002985.6     6239       Caenorhabditis elegans\n",
       "1    GCF_000001405.40     9606                 Homo sapiens\n",
       "2    GCF_000001635.27    10090                 Mus musculus\n",
       "3     GCF_000001215.4     7227      Drosophila melanogaster\n",
       "4     GCF_000002035.6     7955                  Danio rerio\n",
       "..                ...      ...                          ...\n",
       "995   GCA_927399485.1  1371681       Calamotropha paludella\n",
       "996   GCA_929112965.1   987983          Mythimna albipuncta\n",
       "997   GCA_905220435.1   689058       Amphipyra tragopoginis\n",
       "998   GCA_907165235.1  1101072               Zeuzera pyrina\n",
       "999   GCA_024489055.1   933992  Chanodichthys erythropterus\n",
       "\n",
       "[1000 rows x 3 columns]"
      ]
     },
     "execution_count": 12,
     "metadata": {},
     "output_type": "execute_result"
    }
   ],
   "source": [
    "data_accession_taxon"
   ]
  },
  {
   "cell_type": "code",
   "execution_count": 13,
   "metadata": {},
   "outputs": [
    {
     "name": "stderr",
     "output_type": "stream",
     "text": [
      "100%|██████████| 1000/1000 [00:00<00:00, 29787.61it/s]\n"
     ]
    }
   ],
   "source": [
    "urls_download_template = \"https://api.ncbi.nlm.nih.gov/datasets/v2alpha/genome/accession/{accession}/download?include_annotation_type=DEFAULT,GENOME_FASTA&filename={filename}\"\n",
    "\n",
    "def get_fasta_url_download(row):\n",
    "    accession = row[\"accession\"]\n",
    "    filename = re.sub('[^a-zA-Z0-9 \\n\\.]', '', row[\"organism_name\"])\n",
    "    filename = filename.replace(\" \", \"\")\n",
    "    filename = filename + \".zip\"\n",
    "    \n",
    "    url_download = urls_download_template.format(accession=accession, filename=filename)\n",
    "    \n",
    "    return url_download\n",
    "\n",
    "\n",
    "data_accession_taxon[\"fasta_url_download\"] = data_accession_taxon.progress_apply(get_fasta_url_download, axis=1)"
   ]
  },
  {
   "cell_type": "code",
   "execution_count": 14,
   "metadata": {},
   "outputs": [
    {
     "data": {
      "text/html": [
       "<div>\n",
       "<style scoped>\n",
       "    .dataframe tbody tr th:only-of-type {\n",
       "        vertical-align: middle;\n",
       "    }\n",
       "\n",
       "    .dataframe tbody tr th {\n",
       "        vertical-align: top;\n",
       "    }\n",
       "\n",
       "    .dataframe thead th {\n",
       "        text-align: right;\n",
       "    }\n",
       "</style>\n",
       "<table border=\"1\" class=\"dataframe\">\n",
       "  <thead>\n",
       "    <tr style=\"text-align: right;\">\n",
       "      <th></th>\n",
       "      <th>accession</th>\n",
       "      <th>tax_id</th>\n",
       "      <th>organism_name</th>\n",
       "      <th>fasta_url_download</th>\n",
       "    </tr>\n",
       "  </thead>\n",
       "  <tbody>\n",
       "    <tr>\n",
       "      <th>0</th>\n",
       "      <td>GCF_000002985.6</td>\n",
       "      <td>6239</td>\n",
       "      <td>Caenorhabditis elegans</td>\n",
       "      <td>https://api.ncbi.nlm.nih.gov/datasets/v2alpha/...</td>\n",
       "    </tr>\n",
       "    <tr>\n",
       "      <th>1</th>\n",
       "      <td>GCF_000001405.40</td>\n",
       "      <td>9606</td>\n",
       "      <td>Homo sapiens</td>\n",
       "      <td>https://api.ncbi.nlm.nih.gov/datasets/v2alpha/...</td>\n",
       "    </tr>\n",
       "    <tr>\n",
       "      <th>2</th>\n",
       "      <td>GCF_000001635.27</td>\n",
       "      <td>10090</td>\n",
       "      <td>Mus musculus</td>\n",
       "      <td>https://api.ncbi.nlm.nih.gov/datasets/v2alpha/...</td>\n",
       "    </tr>\n",
       "    <tr>\n",
       "      <th>3</th>\n",
       "      <td>GCF_000001215.4</td>\n",
       "      <td>7227</td>\n",
       "      <td>Drosophila melanogaster</td>\n",
       "      <td>https://api.ncbi.nlm.nih.gov/datasets/v2alpha/...</td>\n",
       "    </tr>\n",
       "    <tr>\n",
       "      <th>4</th>\n",
       "      <td>GCF_000002035.6</td>\n",
       "      <td>7955</td>\n",
       "      <td>Danio rerio</td>\n",
       "      <td>https://api.ncbi.nlm.nih.gov/datasets/v2alpha/...</td>\n",
       "    </tr>\n",
       "    <tr>\n",
       "      <th>...</th>\n",
       "      <td>...</td>\n",
       "      <td>...</td>\n",
       "      <td>...</td>\n",
       "      <td>...</td>\n",
       "    </tr>\n",
       "    <tr>\n",
       "      <th>995</th>\n",
       "      <td>GCA_927399485.1</td>\n",
       "      <td>1371681</td>\n",
       "      <td>Calamotropha paludella</td>\n",
       "      <td>https://api.ncbi.nlm.nih.gov/datasets/v2alpha/...</td>\n",
       "    </tr>\n",
       "    <tr>\n",
       "      <th>996</th>\n",
       "      <td>GCA_929112965.1</td>\n",
       "      <td>987983</td>\n",
       "      <td>Mythimna albipuncta</td>\n",
       "      <td>https://api.ncbi.nlm.nih.gov/datasets/v2alpha/...</td>\n",
       "    </tr>\n",
       "    <tr>\n",
       "      <th>997</th>\n",
       "      <td>GCA_905220435.1</td>\n",
       "      <td>689058</td>\n",
       "      <td>Amphipyra tragopoginis</td>\n",
       "      <td>https://api.ncbi.nlm.nih.gov/datasets/v2alpha/...</td>\n",
       "    </tr>\n",
       "    <tr>\n",
       "      <th>998</th>\n",
       "      <td>GCA_907165235.1</td>\n",
       "      <td>1101072</td>\n",
       "      <td>Zeuzera pyrina</td>\n",
       "      <td>https://api.ncbi.nlm.nih.gov/datasets/v2alpha/...</td>\n",
       "    </tr>\n",
       "    <tr>\n",
       "      <th>999</th>\n",
       "      <td>GCA_024489055.1</td>\n",
       "      <td>933992</td>\n",
       "      <td>Chanodichthys erythropterus</td>\n",
       "      <td>https://api.ncbi.nlm.nih.gov/datasets/v2alpha/...</td>\n",
       "    </tr>\n",
       "  </tbody>\n",
       "</table>\n",
       "<p>1000 rows × 4 columns</p>\n",
       "</div>"
      ],
      "text/plain": [
       "            accession   tax_id                organism_name  \\\n",
       "0     GCF_000002985.6     6239       Caenorhabditis elegans   \n",
       "1    GCF_000001405.40     9606                 Homo sapiens   \n",
       "2    GCF_000001635.27    10090                 Mus musculus   \n",
       "3     GCF_000001215.4     7227      Drosophila melanogaster   \n",
       "4     GCF_000002035.6     7955                  Danio rerio   \n",
       "..                ...      ...                          ...   \n",
       "995   GCA_927399485.1  1371681       Calamotropha paludella   \n",
       "996   GCA_929112965.1   987983          Mythimna albipuncta   \n",
       "997   GCA_905220435.1   689058       Amphipyra tragopoginis   \n",
       "998   GCA_907165235.1  1101072               Zeuzera pyrina   \n",
       "999   GCA_024489055.1   933992  Chanodichthys erythropterus   \n",
       "\n",
       "                                    fasta_url_download  \n",
       "0    https://api.ncbi.nlm.nih.gov/datasets/v2alpha/...  \n",
       "1    https://api.ncbi.nlm.nih.gov/datasets/v2alpha/...  \n",
       "2    https://api.ncbi.nlm.nih.gov/datasets/v2alpha/...  \n",
       "3    https://api.ncbi.nlm.nih.gov/datasets/v2alpha/...  \n",
       "4    https://api.ncbi.nlm.nih.gov/datasets/v2alpha/...  \n",
       "..                                                 ...  \n",
       "995  https://api.ncbi.nlm.nih.gov/datasets/v2alpha/...  \n",
       "996  https://api.ncbi.nlm.nih.gov/datasets/v2alpha/...  \n",
       "997  https://api.ncbi.nlm.nih.gov/datasets/v2alpha/...  \n",
       "998  https://api.ncbi.nlm.nih.gov/datasets/v2alpha/...  \n",
       "999  https://api.ncbi.nlm.nih.gov/datasets/v2alpha/...  \n",
       "\n",
       "[1000 rows x 4 columns]"
      ]
     },
     "execution_count": 14,
     "metadata": {},
     "output_type": "execute_result"
    }
   ],
   "source": [
    "data_accession_taxon"
   ]
  },
  {
   "cell_type": "code",
   "execution_count": 15,
   "metadata": {},
   "outputs": [
    {
     "data": {
      "text/plain": [
       "'https://api.ncbi.nlm.nih.gov/datasets/v2alpha/genome/accession/GCF_000002985.6/download?include_annotation_type=DEFAULT,GENOME_FASTA&filename=Caenorhabditiselegans.zip'"
      ]
     },
     "execution_count": 15,
     "metadata": {},
     "output_type": "execute_result"
    }
   ],
   "source": [
    "data_accession_taxon.iloc[0].fasta_url_download"
   ]
  },
  {
   "cell_type": "code",
   "execution_count": 16,
   "metadata": {},
   "outputs": [],
   "source": [
    "data_accession_taxon.to_csv(os.path.join(PROCESSED_DATA_PATH, \"data_accession_taxon_fasta.csv\"), index=False)"
   ]
  }
 ],
 "metadata": {
  "kernelspec": {
   "display_name": "Python 3",
   "language": "python",
   "name": "python3"
  },
  "language_info": {
   "codemirror_mode": {
    "name": "ipython",
    "version": 3
   },
   "file_extension": ".py",
   "mimetype": "text/x-python",
   "name": "python",
   "nbconvert_exporter": "python",
   "pygments_lexer": "ipython3",
   "version": "3.8.10"
  }
 },
 "nbformat": 4,
 "nbformat_minor": 2
}
